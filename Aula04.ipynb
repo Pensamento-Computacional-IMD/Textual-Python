{
  "nbformat": 4,
  "nbformat_minor": 0,
  "metadata": {
    "colab": {
      "name": "Aula04.ipynb",
      "version": "0.3.2",
      "provenance": [],
      "include_colab_link": true
    },
    "language_info": {
      "codemirror_mode": {
        "name": "ipython",
        "version": 2
      },
      "file_extension": ".py",
      "mimetype": "text/x-python",
      "name": "python",
      "nbconvert_exporter": "python",
      "pygments_lexer": "ipython2",
      "version": "2.7.10"
    },
    "kernelspec": {
      "display_name": "Python 2",
      "language": "python",
      "name": "python2"
    }
  },
  "cells": [
    {
      "cell_type": "markdown",
      "metadata": {
        "id": "view-in-github",
        "colab_type": "text"
      },
      "source": [
        "<a href=\"https://colab.research.google.com/github/agiribeiro/Python_beginner/blob/master/Aula04.ipynb\" target=\"_parent\"><img src=\"https://colab.research.google.com/assets/colab-badge.svg\" alt=\"Open In Colab\"/></a>"
      ]
    },
    {
      "cell_type": "markdown",
      "metadata": {
        "id": "gWXq75KzyPSA",
        "colab_type": "text"
      },
      "source": [
        "##Strings"
      ]
    },
    {
      "cell_type": "markdown",
      "metadata": {
        "id": "esdVY3QQyPSD",
        "colab_type": "text"
      },
      "source": [
        "Strings são dados ordenados baseados em texto que são representados colocando o mesmo em aspas simples / duplas / triplas."
      ]
    },
    {
      "cell_type": "code",
      "metadata": {
        "id": "ItikiPUeyPSH",
        "colab_type": "code",
        "colab": {}
      },
      "source": [
        "String0 = 'Taj Mahal is beautiful'\n",
        "String1 = \"Taj Mahal is beautiful\"\n",
        "String2 = '''Taj Mahal\n",
        "is\n",
        "beautiful'''"
      ],
      "execution_count": 0,
      "outputs": []
    },
    {
      "cell_type": "code",
      "metadata": {
        "id": "oJZNf0eVyPSN",
        "colab_type": "code",
        "outputId": "fb9d6004-0ec3-4065-85a9-141f2a53889f",
        "colab": {
          "base_uri": "https://localhost:8080/",
          "height": 102
        }
      },
      "source": [
        "print String0 , type(String0)\n",
        "print String1, type(String1)\n",
        "print String2, type(String2)"
      ],
      "execution_count": 12,
      "outputs": [
        {
          "output_type": "stream",
          "text": [
            "Taj Mahal is beautiful <type 'str'>\n",
            "Taj Mahal is beautiful <type 'str'>\n",
            "Taj Mahal\n",
            "is\n",
            "beautiful <type 'str'>\n"
          ],
          "name": "stdout"
        }
      ]
    },
    {
      "cell_type": "markdown",
      "metadata": {
        "id": "JerMOej9yPST",
        "colab_type": "text"
      },
      "source": [
        "Indexação e fatiamento é semelhante ao que usando em listas na Aula03"
      ]
    },
    {
      "cell_type": "code",
      "metadata": {
        "id": "NLya9CGLyPSU",
        "colab_type": "code",
        "outputId": "f7ea7d85-40a2-4a28-aa67-319c5a1ad05c",
        "colab": {
          "base_uri": "https://localhost:8080/",
          "height": 51
        }
      },
      "source": [
        "print String0[4]\n",
        "print String0[4:]"
      ],
      "execution_count": 13,
      "outputs": [
        {
          "output_type": "stream",
          "text": [
            "M\n",
            "Mahal is beautiful\n"
          ],
          "name": "stdout"
        }
      ]
    },
    {
      "cell_type": "markdown",
      "metadata": {
        "id": "2TB9jnvwyPSX",
        "colab_type": "text"
      },
      "source": [
        "###Funções para strings"
      ]
    },
    {
      "cell_type": "markdown",
      "metadata": {
        "id": "ajdnWhfdyPSZ",
        "colab_type": "text"
      },
      "source": [
        "**find( )** retorna o valor de índice dos dados fornecidos que são encontrados na string. Se não for encontrado, retorna -1. Lembre-se de não confundir o -1 retornado para o valor de indexação reversa.\n"
      ]
    },
    {
      "cell_type": "code",
      "metadata": {
        "id": "_LkiW-kbyPSa",
        "colab_type": "code",
        "outputId": "f2d2e2c4-ab21-4fcd-f834-7281b4db3a5f",
        "colab": {
          "base_uri": "https://localhost:8080/",
          "height": 51
        }
      },
      "source": [
        "print String0.find('al')\n",
        "print String0.find('am')"
      ],
      "execution_count": 14,
      "outputs": [
        {
          "output_type": "stream",
          "text": [
            "7\n",
            "-1\n"
          ],
          "name": "stdout"
        }
      ]
    },
    {
      "cell_type": "markdown",
      "metadata": {
        "id": "z87-ikf9yPSd",
        "colab_type": "text"
      },
      "source": [
        "O valor do índice retornado é o índice do primeiro elemento nos dados de entrada.\n"
      ]
    },
    {
      "cell_type": "code",
      "metadata": {
        "id": "WSjYxD3GyPSe",
        "colab_type": "code",
        "outputId": "30977eff-8762-416f-aa02-94e6357b67f4",
        "colab": {
          "base_uri": "https://localhost:8080/",
          "height": 34
        }
      },
      "source": [
        "print String0[7]"
      ],
      "execution_count": 15,
      "outputs": [
        {
          "output_type": "stream",
          "text": [
            "a\n"
          ],
          "name": "stdout"
        }
      ]
    },
    {
      "cell_type": "markdown",
      "metadata": {
        "id": "3uOg676byPSj",
        "colab_type": "text"
      },
      "source": [
        "Também é possível inserir a função **find ()** entre os valores de índice que ela deve pesquisar."
      ]
    },
    {
      "cell_type": "code",
      "metadata": {
        "id": "n7kQsgjZyPSk",
        "colab_type": "code",
        "outputId": "36fc8677-aa73-46e7-9fc0-f70c1a6afd58",
        "colab": {
          "base_uri": "https://localhost:8080/",
          "height": 51
        }
      },
      "source": [
        "print String0.find('j',1)\n",
        "print String0.find('j',1,3)"
      ],
      "execution_count": 16,
      "outputs": [
        {
          "output_type": "stream",
          "text": [
            "2\n",
            "2\n"
          ],
          "name": "stdout"
        }
      ]
    },
    {
      "cell_type": "markdown",
      "metadata": {
        "id": "2nkIrr15yPSq",
        "colab_type": "text"
      },
      "source": [
        "**capitalize( )** torna maiúsculo o primeiro elemento da string"
      ]
    },
    {
      "cell_type": "code",
      "metadata": {
        "id": "MJihFrLOyPSs",
        "colab_type": "code",
        "outputId": "3d582c32-fc98-40b9-da98-27e22e926aba",
        "colab": {
          "base_uri": "https://localhost:8080/",
          "height": 34
        }
      },
      "source": [
        "String3 = 'observe the first letter in this sentence.'\n",
        "print String3.capitalize()"
      ],
      "execution_count": 17,
      "outputs": [
        {
          "output_type": "stream",
          "text": [
            "Observe the first letter in this sentence.\n"
          ],
          "name": "stdout"
        }
      ]
    },
    {
      "cell_type": "markdown",
      "metadata": {
        "id": "e-4fOZzqyPSx",
        "colab_type": "text"
      },
      "source": [
        "**center( )** centraliza de acordo com a largura fornecida."
      ]
    },
    {
      "cell_type": "code",
      "metadata": {
        "id": "4gUHtxvhyPSx",
        "colab_type": "code",
        "outputId": "f47f7464-5bb5-4a1a-b4b6-a2346c05fc51",
        "colab": {
          "base_uri": "https://localhost:8080/",
          "height": 34
        }
      },
      "source": [
        "String0.center(70)"
      ],
      "execution_count": 18,
      "outputs": [
        {
          "output_type": "execute_result",
          "data": {
            "text/plain": [
              "'                        Taj Mahal is beautiful                        '"
            ]
          },
          "metadata": {
            "tags": []
          },
          "execution_count": 18
        }
      ]
    },
    {
      "cell_type": "markdown",
      "metadata": {
        "id": "rK1qB_4uyPS0",
        "colab_type": "text"
      },
      "source": [
        "Pode-se preencher os espaços em branco com outro caractere"
      ]
    },
    {
      "cell_type": "code",
      "metadata": {
        "id": "_j0i1YgEyPS1",
        "colab_type": "code",
        "outputId": "f05c5a92-4b5a-4079-c9c8-27b9c01e380c",
        "colab": {
          "base_uri": "https://localhost:8080/",
          "height": 34
        }
      },
      "source": [
        "String0.center(70,'-')"
      ],
      "execution_count": 19,
      "outputs": [
        {
          "output_type": "execute_result",
          "data": {
            "text/plain": [
              "'------------------------Taj Mahal is beautiful------------------------'"
            ]
          },
          "metadata": {
            "tags": []
          },
          "execution_count": 19
        }
      ]
    },
    {
      "cell_type": "code",
      "metadata": {
        "id": "dksa5tJUyPS6",
        "colab_type": "code",
        "outputId": "93d821c2-0733-4de9-bb23-7392cef3f42b",
        "colab": {
          "base_uri": "https://localhost:8080/",
          "height": 34
        }
      },
      "source": [
        "String0.zfill(30)"
      ],
      "execution_count": 20,
      "outputs": [
        {
          "output_type": "execute_result",
          "data": {
            "text/plain": [
              "'00000000Taj Mahal is beautiful'"
            ]
          },
          "metadata": {
            "tags": []
          },
          "execution_count": 20
        }
      ]
    },
    {
      "cell_type": "markdown",
      "metadata": {
        "id": "L5I8zL0wyPS9",
        "colab_type": "text"
      },
      "source": [
        "**expandtabs( )** permite que você altere o espaçamento do caractere de tabulação. '\\t', que por padrão é definido para 8 espaços.\n"
      ]
    },
    {
      "cell_type": "code",
      "metadata": {
        "id": "knxokj_ByPS-",
        "colab_type": "code",
        "outputId": "c235f900-dad9-40b1-b603-9f2ec6d0fb80",
        "colab": {
          "base_uri": "https://localhost:8080/",
          "height": 68
        }
      },
      "source": [
        "s = 'h\\te\\tl\\tl\\to'\n",
        "print s\n",
        "print s.expandtabs(1)\n",
        "print s.expandtabs()"
      ],
      "execution_count": 21,
      "outputs": [
        {
          "output_type": "stream",
          "text": [
            "h\te\tl\tl\to\n",
            "h e l l o\n",
            "h       e       l       l       o\n"
          ],
          "name": "stdout"
        }
      ]
    },
    {
      "cell_type": "markdown",
      "metadata": {
        "collapsed": true,
        "id": "ETxNeauNyPTE",
        "colab_type": "text"
      },
      "source": [
        "**index( )** funciona da mesma forma que a função **find ()** a única diferença é encontrar retornos '-1' quando o elemento de entrada não é encontrado na string, mas a função **index ()** lança um **ValueError**. Para eliminar o erro, apague ou comente a última expressão"
      ]
    },
    {
      "cell_type": "code",
      "metadata": {
        "id": "V6DVj34hyPTG",
        "colab_type": "code",
        "outputId": "08a4a73d-a34a-4ade-f190-c1013f88e853",
        "colab": {
          "base_uri": "https://localhost:8080/",
          "height": 232
        }
      },
      "source": [
        "print String0.index('Taj')\n",
        "print String0.index('Mahal',0)\n",
        "print String0.index('Mahal',10,20)"
      ],
      "execution_count": 25,
      "outputs": [
        {
          "output_type": "stream",
          "text": [
            "0\n",
            "4\n"
          ],
          "name": "stdout"
        },
        {
          "output_type": "error",
          "ename": "ValueError",
          "evalue": "ignored",
          "traceback": [
            "\u001b[0;31m\u001b[0m",
            "\u001b[0;31mValueError\u001b[0mTraceback (most recent call last)",
            "\u001b[0;32m<ipython-input-25-4b03d4692571>\u001b[0m in \u001b[0;36m<module>\u001b[0;34m()\u001b[0m\n\u001b[1;32m      1\u001b[0m \u001b[0;32mprint\u001b[0m \u001b[0mString0\u001b[0m\u001b[0;34m.\u001b[0m\u001b[0mindex\u001b[0m\u001b[0;34m(\u001b[0m\u001b[0;34m'Taj'\u001b[0m\u001b[0;34m)\u001b[0m\u001b[0;34m\u001b[0m\u001b[0m\n\u001b[1;32m      2\u001b[0m \u001b[0;32mprint\u001b[0m \u001b[0mString0\u001b[0m\u001b[0;34m.\u001b[0m\u001b[0mindex\u001b[0m\u001b[0;34m(\u001b[0m\u001b[0;34m'Mahal'\u001b[0m\u001b[0;34m,\u001b[0m\u001b[0;36m0\u001b[0m\u001b[0;34m)\u001b[0m\u001b[0;34m\u001b[0m\u001b[0m\n\u001b[0;32m----> 3\u001b[0;31m \u001b[0;32mprint\u001b[0m \u001b[0mString0\u001b[0m\u001b[0;34m.\u001b[0m\u001b[0mindex\u001b[0m\u001b[0;34m(\u001b[0m\u001b[0;34m'Mahal'\u001b[0m\u001b[0;34m,\u001b[0m\u001b[0;36m10\u001b[0m\u001b[0;34m,\u001b[0m\u001b[0;36m20\u001b[0m\u001b[0;34m)\u001b[0m\u001b[0;34m\u001b[0m\u001b[0m\n\u001b[0m",
            "\u001b[0;31mValueError\u001b[0m: substring not found"
          ]
        }
      ]
    },
    {
      "cell_type": "markdown",
      "metadata": {
        "collapsed": false,
        "id": "qqX36RPxyPTK",
        "colab_type": "text"
      },
      "source": [
        "**endswith( )**  é usada para verificar se a string dada termina com o caractere particular que é dado como entrada.\n"
      ]
    },
    {
      "cell_type": "code",
      "metadata": {
        "id": "a41mqL9EyPTL",
        "colab_type": "code",
        "outputId": "02f8dc17-4e5f-48ac-91af-00a5c417c508",
        "colab": {}
      },
      "source": [
        "print String0.endswith('y')"
      ],
      "execution_count": 0,
      "outputs": [
        {
          "output_type": "stream",
          "text": [
            "False\n"
          ],
          "name": "stdout"
        }
      ]
    },
    {
      "cell_type": "markdown",
      "metadata": {
        "id": "zqr6ePHMyPTP",
        "colab_type": "text"
      },
      "source": [
        "O index do começo e fim podem ser especificados. "
      ]
    },
    {
      "cell_type": "code",
      "metadata": {
        "id": "Cp6l1GFQyPTQ",
        "colab_type": "code",
        "outputId": "c3e06cb7-749f-49a0-8e89-3825fd53dd6c",
        "colab": {}
      },
      "source": [
        "print String0.endswith('l',0)\n",
        "print String0.endswith('M',0,5)"
      ],
      "execution_count": 0,
      "outputs": [
        {
          "output_type": "stream",
          "text": [
            "True\n",
            "True\n"
          ],
          "name": "stdout"
        }
      ]
    },
    {
      "cell_type": "markdown",
      "metadata": {
        "id": "xoInGv6eyPTW",
        "colab_type": "text"
      },
      "source": [
        "**count( )** conta o número de char na string dada. O início e o índice de parada também podem ser especificados ou deixados em branco. (Estes são argumentos implícitos que serão tratados em funções)\n"
      ]
    },
    {
      "cell_type": "code",
      "metadata": {
        "id": "WAGmes9GyPTW",
        "colab_type": "code",
        "outputId": "d0db0b51-ea49-45d8-a609-18f142540797",
        "colab": {}
      },
      "source": [
        "print String0.count('a',0)\n",
        "print String0.count('a',5,10)"
      ],
      "execution_count": 0,
      "outputs": [
        {
          "output_type": "stream",
          "text": [
            "4\n",
            "2\n"
          ],
          "name": "stdout"
        }
      ]
    },
    {
      "cell_type": "markdown",
      "metadata": {
        "collapsed": false,
        "id": "DrEv11nkyPTb",
        "colab_type": "text"
      },
      "source": [
        "**join( )** é usado adicione um char entre os elementos da string de entrada.\n",
        " "
      ]
    },
    {
      "cell_type": "code",
      "metadata": {
        "id": "39YOx3-SyPTc",
        "colab_type": "code",
        "outputId": "c3648924-2a60-4769-ec7d-f5649f90ddcb",
        "colab": {}
      },
      "source": [
        "'a'.join('*_-')"
      ],
      "execution_count": 0,
      "outputs": [
        {
          "output_type": "execute_result",
          "data": {
            "text/plain": [
              "'*a_a-'"
            ]
          },
          "metadata": {
            "tags": []
          },
          "execution_count": 16
        }
      ]
    },
    {
      "cell_type": "markdown",
      "metadata": {
        "id": "6pt8TD8ryPTi",
        "colab_type": "text"
      },
      "source": [
        "'*_-' é a string de entrada e 'a'é adicionada entre cada elemento "
      ]
    },
    {
      "cell_type": "markdown",
      "metadata": {
        "id": "2WtxS1A9yPTj",
        "colab_type": "text"
      },
      "source": [
        "**join( )**  pode ser usada para converter a lista em uma string\n"
      ]
    },
    {
      "cell_type": "code",
      "metadata": {
        "id": "znW3hjC0yPTk",
        "colab_type": "code",
        "outputId": "1d26f06a-b96c-4c89-eb6f-0ab885bb4a5a",
        "colab": {}
      },
      "source": [
        "a = list(String0)\n",
        "print a\n",
        "b = ''.join(a)\n",
        "print b"
      ],
      "execution_count": 0,
      "outputs": [
        {
          "output_type": "stream",
          "text": [
            "['T', 'a', 'j', ' ', 'M', 'a', 'h', 'a', 'l', ' ', 'i', 's', ' ', 'b', 'e', 'a', 'u', 't', 'i', 'f', 'u', 'l']\n",
            "Taj Mahal is beautiful\n"
          ],
          "name": "stdout"
        }
      ]
    },
    {
      "cell_type": "markdown",
      "metadata": {
        "id": "gkeMKB_ryPTn",
        "colab_type": "text"
      },
      "source": [
        "Antes de convertê-lo em uma string, a função ** join () ** pode ser usada para inserir qualquer caractere entre os elementos da lista.\n"
      ]
    },
    {
      "cell_type": "code",
      "metadata": {
        "id": "aBQ9rLtvyPTo",
        "colab_type": "code",
        "outputId": "bca9971c-efd9-4290-c84c-0a9725440ed5",
        "colab": {}
      },
      "source": [
        "c = '/'.join(a)[18:]\n",
        "print c"
      ],
      "execution_count": 0,
      "outputs": [
        {
          "output_type": "stream",
          "text": [
            " /i/s/ /b/e/a/u/t/i/f/u/l\n"
          ],
          "name": "stdout"
        }
      ]
    },
    {
      "cell_type": "markdown",
      "metadata": {
        "collapsed": false,
        "id": "n3PvMr2gyPTr",
        "colab_type": "text"
      },
      "source": [
        "**split( )**  é usada para converter uma string de volta para uma lista. Pense nisso como o oposto da função **join ()**.\n"
      ]
    },
    {
      "cell_type": "code",
      "metadata": {
        "id": "GFK6hyGgyPTs",
        "colab_type": "code",
        "outputId": "37350970-c053-4406-aeb2-c32bb9e88b93",
        "colab": {}
      },
      "source": [
        "d = c.split('/')\n",
        "print d"
      ],
      "execution_count": 0,
      "outputs": [
        {
          "output_type": "stream",
          "text": [
            "[' ', 'i', 's', ' ', 'b', 'e', 'a', 'u', 't', 'i', 'f', 'u', 'l']\n"
          ],
          "name": "stdout"
        }
      ]
    },
    {
      "cell_type": "markdown",
      "metadata": {
        "id": "8aGaNDiyyPTv",
        "colab_type": "text"
      },
      "source": [
        "Na função **split ()**, pode-se também especificar o número de vezes que você deseja dividir a string ou o número de elementos que a nova lista retornada deve conter. O número de elementos é sempre um a mais que o número especificado, porque divide o número de vezes especificado.\n"
      ]
    },
    {
      "cell_type": "code",
      "metadata": {
        "id": "Bzkk1QdwyPTx",
        "colab_type": "code",
        "outputId": "e7a0cdbf-28e5-4ac5-a9ba-ead8e2839ca0",
        "colab": {}
      },
      "source": [
        "e = c.split('/',3)\n",
        "print e\n",
        "print len(e)"
      ],
      "execution_count": 0,
      "outputs": [
        {
          "output_type": "stream",
          "text": [
            "[' ', 'i', 's', ' /b/e/a/u/t/i/f/u/l']\n",
            "4\n"
          ],
          "name": "stdout"
        }
      ]
    },
    {
      "cell_type": "markdown",
      "metadata": {
        "id": "Ff830b3ByPT1",
        "colab_type": "text"
      },
      "source": [
        "**lower( )** converte qualquer letra maiúscula em minúscula.\n"
      ]
    },
    {
      "cell_type": "code",
      "metadata": {
        "id": "DJjS1mceyPT3",
        "colab_type": "code",
        "outputId": "b97e321b-de74-497e-9b62-15f9f242f9cf",
        "colab": {}
      },
      "source": [
        "print String0\n",
        "print String0.lower()"
      ],
      "execution_count": 0,
      "outputs": [
        {
          "output_type": "stream",
          "text": [
            "Taj Mahal is beautiful\n",
            "taj mahal is beautiful\n"
          ],
          "name": "stdout"
        }
      ]
    },
    {
      "cell_type": "markdown",
      "metadata": {
        "id": "kgsh93wbyPT_",
        "colab_type": "text"
      },
      "source": [
        "**upper( )** converte qualquer letra minúscula em maiúscula.\n",
        "\n",
        "\n",
        "\n"
      ]
    },
    {
      "cell_type": "code",
      "metadata": {
        "id": "d0Vv086qyPUC",
        "colab_type": "code",
        "outputId": "7de6a390-92fe-4f0f-ff3c-84f24f819f79",
        "colab": {}
      },
      "source": [
        "String0.upper()"
      ],
      "execution_count": 0,
      "outputs": [
        {
          "output_type": "execute_result",
          "data": {
            "text/plain": [
              "'TAJ MAHAL IS BEAUTIFUL'"
            ]
          },
          "metadata": {
            "tags": []
          },
          "execution_count": 22
        }
      ]
    },
    {
      "cell_type": "markdown",
      "metadata": {
        "id": "xZkhEu3LyPUF",
        "colab_type": "text"
      },
      "source": [
        "**replace( )** substitui o elemento por outro elemento."
      ]
    },
    {
      "cell_type": "code",
      "metadata": {
        "id": "MRlbwl-NyPUG",
        "colab_type": "code",
        "outputId": "2ea280db-462d-480f-874f-6b7ac031b0b7",
        "colab": {}
      },
      "source": [
        "String0.replace('Taj Mahal','Bengaluru')"
      ],
      "execution_count": 0,
      "outputs": [
        {
          "output_type": "execute_result",
          "data": {
            "text/plain": [
              "'Bengaluru is beautiful'"
            ]
          },
          "metadata": {
            "tags": []
          },
          "execution_count": 23
        }
      ]
    },
    {
      "cell_type": "markdown",
      "metadata": {
        "id": "wrT11CrMyPUL",
        "colab_type": "text"
      },
      "source": [
        "**strip( )** é usado para excluir elementos da extremidade direita e da extremidade esquerda, o que não é necessário.\n"
      ]
    },
    {
      "cell_type": "code",
      "metadata": {
        "id": "Cd9vqfOmyPUM",
        "colab_type": "code",
        "colab": {}
      },
      "source": [
        "f = '    hello      '"
      ],
      "execution_count": 0,
      "outputs": []
    },
    {
      "cell_type": "markdown",
      "metadata": {
        "id": "q6nXzxUbyPUR",
        "colab_type": "text"
      },
      "source": [
        "Se nenhum caractere for especificado, ele excluirá todos os espaços que estão presentes no lado direito e esquerdo dos dados.\n"
      ]
    },
    {
      "cell_type": "code",
      "metadata": {
        "id": "FuEuYfyFyPUS",
        "colab_type": "code",
        "outputId": "5d6e1671-5c2f-4659-bb87-039a7f215b65",
        "colab": {}
      },
      "source": [
        "f.strip()"
      ],
      "execution_count": 0,
      "outputs": [
        {
          "output_type": "execute_result",
          "data": {
            "text/plain": [
              "'hello'"
            ]
          },
          "metadata": {
            "tags": []
          },
          "execution_count": 25
        }
      ]
    },
    {
      "cell_type": "markdown",
      "metadata": {
        "id": "HIN8L7nmyPUV",
        "colab_type": "text"
      },
      "source": [
        "**strip( )** quando um char é especificado, ele exclui esse char se estiver presente nas duas extremidades da string especificada.\n"
      ]
    },
    {
      "cell_type": "code",
      "metadata": {
        "id": "VokQBAdPyPUW",
        "colab_type": "code",
        "colab": {}
      },
      "source": [
        "f = '   ***----hello---*******     '"
      ],
      "execution_count": 0,
      "outputs": []
    },
    {
      "cell_type": "code",
      "metadata": {
        "id": "U7Z9Q_DwyPUY",
        "colab_type": "code",
        "outputId": "b50657a6-4d4a-4ec7-fdd7-b4eadc5f13af",
        "colab": {}
      },
      "source": [
        "f.strip('*')"
      ],
      "execution_count": 0,
      "outputs": [
        {
          "output_type": "execute_result",
          "data": {
            "text/plain": [
              "'   ***----hello---*******     '"
            ]
          },
          "metadata": {
            "tags": []
          },
          "execution_count": 27
        }
      ]
    },
    {
      "cell_type": "markdown",
      "metadata": {
        "id": "9B-vjN3EyPUf",
        "colab_type": "text"
      },
      "source": [
        "O asterisco teve que ser excluído, mas não foi. Isso ocorre porque existe um espaço tanto no lado direito quanto no lado esquerdo. Então, na função de strip. Os caracteres precisam ser inseridos na ordem específica em que estão presentes.\n"
      ]
    },
    {
      "cell_type": "code",
      "metadata": {
        "id": "70Q4PmV2yPUg",
        "colab_type": "code",
        "outputId": "4208c382-1ab5-4491-9204-5c43f5b87007",
        "colab": {}
      },
      "source": [
        "print f.strip(' *')\n",
        "print f.strip(' *-')"
      ],
      "execution_count": 0,
      "outputs": [
        {
          "output_type": "stream",
          "text": [
            "----hello---\n",
            "hello\n"
          ],
          "name": "stdout"
        }
      ]
    },
    {
      "cell_type": "markdown",
      "metadata": {
        "collapsed": false,
        "id": "KNF28CLQyPUk",
        "colab_type": "text"
      },
      "source": [
        "A função **lstrip ()** e **rstrip ()** tem a mesma funcionalidade que a função strip, mas a única diferença é que **lstrip ()** apaga apenas para o lado esquerdo e **rstrip ()** para o lado esquerdo.  :)\n"
      ]
    },
    {
      "cell_type": "code",
      "metadata": {
        "id": "gKbF-NiVyPUl",
        "colab_type": "code",
        "outputId": "85c55a8c-86a2-463b-b11f-e338965097cd",
        "colab": {}
      },
      "source": [
        "print f.lstrip(' *')\n",
        "print f.rstrip(' *')"
      ],
      "execution_count": 0,
      "outputs": [
        {
          "output_type": "stream",
          "text": [
            "----hello---*******     \n",
            "   ***----hello---\n"
          ],
          "name": "stdout"
        }
      ]
    }
  ]
}