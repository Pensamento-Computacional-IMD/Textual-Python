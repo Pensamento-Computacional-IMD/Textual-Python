{
  "nbformat": 4,
  "nbformat_minor": 0,
  "metadata": {
    "colab": {
      "name": "Aula05.ipynb",
      "version": "0.3.2",
      "provenance": [],
      "include_colab_link": true
    },
    "language_info": {
      "codemirror_mode": {
        "name": "ipython",
        "version": 2
      },
      "file_extension": ".py",
      "mimetype": "text/x-python",
      "name": "python",
      "nbconvert_exporter": "python",
      "pygments_lexer": "ipython2",
      "version": "2.7.10"
    },
    "kernelspec": {
      "display_name": "Python 2",
      "language": "python",
      "name": "python2"
    }
  },
  "cells": [
    {
      "cell_type": "markdown",
      "metadata": {
        "id": "view-in-github",
        "colab_type": "text"
      },
      "source": [
        "<a href=\"https://colab.research.google.com/github/agiribeiro/Python_beginner/blob/master/Aula05.ipynb\" target=\"_parent\"><img src=\"https://colab.research.google.com/assets/colab-badge.svg\" alt=\"Open In Colab\"/></a>"
      ]
    },
    {
      "cell_type": "markdown",
      "metadata": {
        "id": "e7_fjBgKyPUx",
        "colab_type": "text"
      },
      "source": [
        "##Dicionários"
      ]
    },
    {
      "cell_type": "markdown",
      "metadata": {
        "id": "--t9x7eDyPUy",
        "colab_type": "text"
      },
      "source": [
        "Os dicionários são mais usados ​​como um banco de dados, porque aqui você pode indexar uma sequência específica com sua string definida pelo usuário.\n"
      ]
    },
    {
      "cell_type": "markdown",
      "metadata": {
        "id": "9o1V8e37yPUz",
        "colab_type": "text"
      },
      "source": [
        "Para definir um dicionário, equacione uma variável para {} ou dict ()\n"
      ]
    },
    {
      "cell_type": "code",
      "metadata": {
        "id": "JPYPdb33yPU0",
        "colab_type": "code",
        "outputId": "fe4ca133-55a2-4f2d-9493-acceb43bf37e",
        "colab": {}
      },
      "source": [
        "d0 = {}\n",
        "d1 = dict()\n",
        "print type(d0), type(d1)"
      ],
      "execution_count": 0,
      "outputs": [
        {
          "output_type": "stream",
          "text": [
            "<type 'dict'> <type 'dict'>\n"
          ],
          "name": "stdout"
        }
      ]
    },
    {
      "cell_type": "markdown",
      "metadata": {
        "id": "pY3FQz8fyPU6",
        "colab_type": "text"
      },
      "source": [
        "Dicionário funciona um pouco como uma lista, mas com uma capacidade adicional de atribuir seu próprio estilo de índice.\n"
      ]
    },
    {
      "cell_type": "code",
      "metadata": {
        "id": "MZ4T6Hb8yPU7",
        "colab_type": "code",
        "outputId": "21f5e6e5-cd14-4d41-cd0e-aea433b01ef8",
        "colab": {}
      },
      "source": [
        "d0['One'] = 1\n",
        "d0['OneTwo'] = 12 \n",
        "print d0"
      ],
      "execution_count": 0,
      "outputs": [
        {
          "output_type": "stream",
          "text": [
            "{'OneTwo': 12, 'One': 1}\n"
          ],
          "name": "stdout"
        }
      ]
    },
    {
      "cell_type": "markdown",
      "metadata": {
        "id": "MKAYIKUYyPVG",
        "colab_type": "text"
      },
      "source": [
        "É assim que um dicionário se parece. Agora você pode acessar '1' pelo valor do índice definido em 'One'\n"
      ]
    },
    {
      "cell_type": "code",
      "metadata": {
        "id": "E6j3c2T4yPVH",
        "colab_type": "code",
        "outputId": "6d69029b-2225-4dda-d994-16f47be247aa",
        "colab": {}
      },
      "source": [
        "print d0['One']"
      ],
      "execution_count": 0,
      "outputs": [
        {
          "output_type": "stream",
          "text": [
            "1\n"
          ],
          "name": "stdout"
        }
      ]
    },
    {
      "cell_type": "markdown",
      "metadata": {
        "id": "ayHWTmeLyPVL",
        "colab_type": "text"
      },
      "source": [
        "Duas listas relacionadas podem ser mescladas para formar um dicionário.\n"
      ]
    },
    {
      "cell_type": "code",
      "metadata": {
        "id": "mxQYlc-_yPVM",
        "colab_type": "code",
        "colab": {}
      },
      "source": [
        "names = ['One', 'Two', 'Three', 'Four', 'Five']\n",
        "numbers = [1, 2, 3, 4, 5]"
      ],
      "execution_count": 0,
      "outputs": []
    },
    {
      "cell_type": "markdown",
      "metadata": {
        "id": "IULsRx0PyPVN",
        "colab_type": "text"
      },
      "source": [
        "**zip( )** é usada para combinar duas listas"
      ]
    },
    {
      "cell_type": "code",
      "metadata": {
        "id": "9axuOZ9DyPVP",
        "colab_type": "code",
        "outputId": "a2abe9ce-8e25-4e3d-9b29-b210632233e3",
        "colab": {}
      },
      "source": [
        "d2 = zip(names,numbers)\n",
        "print d2"
      ],
      "execution_count": 0,
      "outputs": [
        {
          "output_type": "stream",
          "text": [
            "[('One', 1), ('Two', 2), ('Three', 3), ('Four', 4), ('Five', 5)]\n"
          ],
          "name": "stdout"
        }
      ]
    },
    {
      "cell_type": "markdown",
      "metadata": {
        "collapsed": false,
        "id": "c1QiaX1myPVV",
        "colab_type": "text"
      },
      "source": [
        "As duas listas são combinadas para formar uma única lista e cada elemento é dividido com seus respectivos elementos da outra lista dentro de uma tupla. Tuplas porque é isso que é designado e o valor não deve mudar.\n",
        "\n",
        "Além disso, Para converter o acima em um dicionário. **dict ()**  é a função usada."
      ]
    },
    {
      "cell_type": "code",
      "metadata": {
        "id": "Iew5Z0cOyPVW",
        "colab_type": "code",
        "outputId": "d97198d4-5c97-47a3-8607-3cb91dc882f2",
        "colab": {}
      },
      "source": [
        "a1 = dict(d2)\n",
        "print a1"
      ],
      "execution_count": 0,
      "outputs": [
        {
          "output_type": "stream",
          "text": [
            "{'Four': 4, 'Five': 5, 'Three': 3, 'Two': 2, 'One': 1}\n"
          ],
          "name": "stdout"
        }
      ]
    },
    {
      "cell_type": "markdown",
      "metadata": {
        "id": "aU5AFVT7yPVZ",
        "colab_type": "text"
      },
      "source": [
        "###Built-in Functions"
      ]
    },
    {
      "cell_type": "markdown",
      "metadata": {
        "id": "kRyYX_yKyPVa",
        "colab_type": "text"
      },
      "source": [
        "**clear( )** é usada para apagar todo banco de dados criado."
      ]
    },
    {
      "cell_type": "code",
      "metadata": {
        "id": "GWSn7X50yPVa",
        "colab_type": "code",
        "outputId": "ebfdc8a9-eead-4b50-f567-b9240940832a",
        "colab": {}
      },
      "source": [
        "a1.clear()\n",
        "print a1"
      ],
      "execution_count": 0,
      "outputs": [
        {
          "output_type": "stream",
          "text": [
            "{}\n"
          ],
          "name": "stdout"
        }
      ]
    },
    {
      "cell_type": "markdown",
      "metadata": {
        "id": "BjeaSU9iyPVe",
        "colab_type": "text"
      },
      "source": [
        "Cicionários podem ser criados usando loops:"
      ]
    },
    {
      "cell_type": "code",
      "metadata": {
        "id": "xO4gWC9hyPVf",
        "colab_type": "code",
        "outputId": "4b4c80b0-9cc3-4ef2-8a8c-fba705d398fb",
        "colab": {}
      },
      "source": [
        "for i in range(len(names)):\n",
        "    a1[names[i]] = numbers[i]\n",
        "print a1"
      ],
      "execution_count": 0,
      "outputs": [
        {
          "output_type": "stream",
          "text": [
            "{'Four': 4, 'Five': 5, 'Three': 3, 'Two': 2, 'One': 1}\n"
          ],
          "name": "stdout"
        }
      ]
    },
    {
      "cell_type": "markdown",
      "metadata": {
        "id": "GYIGqeVQyPVi",
        "colab_type": "text"
      },
      "source": [
        "**values( )** retorna uma lista com todos os valores atribuídos no dicionário.\n"
      ]
    },
    {
      "cell_type": "code",
      "metadata": {
        "id": "KNht_OQlyPVj",
        "colab_type": "code",
        "outputId": "c3957f05-d10c-4670-b0db-72f6c3a44259",
        "colab": {}
      },
      "source": [
        "a1.values()"
      ],
      "execution_count": 0,
      "outputs": [
        {
          "output_type": "execute_result",
          "data": {
            "text/plain": [
              "[4, 5, 3, 2, 1]"
            ]
          },
          "metadata": {
            "tags": []
          },
          "execution_count": 38
        }
      ]
    },
    {
      "cell_type": "markdown",
      "metadata": {
        "id": "sIj6OsRJyPVn",
        "colab_type": "text"
      },
      "source": [
        "**keys( )** retorna todos os índices ou as chaves às quais contém os valores aos quais foi atribuído.\n"
      ]
    },
    {
      "cell_type": "code",
      "metadata": {
        "id": "MoTWAjsDyPVp",
        "colab_type": "code",
        "outputId": "139adb4f-0573-4197-bbc4-0a9c06cf7ff6",
        "colab": {}
      },
      "source": [
        "a1.keys()"
      ],
      "execution_count": 0,
      "outputs": [
        {
          "output_type": "execute_result",
          "data": {
            "text/plain": [
              "['Four', 'Five', 'Three', 'Two', 'One']"
            ]
          },
          "metadata": {
            "tags": []
          },
          "execution_count": 39
        }
      ]
    },
    {
      "cell_type": "markdown",
      "metadata": {
        "id": "tKe7uObEyPVs",
        "colab_type": "text"
      },
      "source": [
        "**items( )** retorna uma lista contendo a lista, mas cada elemento no dicionário está dentro de uma tupla. Isso é o mesmo que o resultado obtido quando a função zip foi usada.\n"
      ]
    },
    {
      "cell_type": "code",
      "metadata": {
        "id": "oxDbVUR4yPVs",
        "colab_type": "code",
        "outputId": "dcef5cc2-53c7-4bb1-bb12-c16c3499461f",
        "colab": {}
      },
      "source": [
        "a1.items()"
      ],
      "execution_count": 0,
      "outputs": [
        {
          "output_type": "execute_result",
          "data": {
            "text/plain": [
              "[('Four', 4), ('Five', 5), ('Three', 3), ('Two', 2), ('One', 1)]"
            ]
          },
          "metadata": {
            "tags": []
          },
          "execution_count": 40
        }
      ]
    },
    {
      "cell_type": "markdown",
      "metadata": {
        "id": "mKB3Rjm5yPV1",
        "colab_type": "text"
      },
      "source": [
        "**pop( )** é usada para obter a remoção desse elemento específico e esse elemento removido pode ser atribuído a uma nova variável. Mas lembre-se apenas o valor é armazenado e não a chave. "
      ]
    },
    {
      "cell_type": "code",
      "metadata": {
        "id": "j6fhoiBDyPV3",
        "colab_type": "code",
        "outputId": "7299caeb-426d-4789-e4e4-bbc034a1dd6f",
        "colab": {}
      },
      "source": [
        "a2 = a1.pop('Four')\n",
        "print a1\n",
        "print a2"
      ],
      "execution_count": 0,
      "outputs": [
        {
          "output_type": "stream",
          "text": [
            "{'Five': 5, 'Three': 3, 'Two': 2, 'One': 1}\n",
            "4\n"
          ],
          "name": "stdout"
        }
      ]
    }
  ]
}