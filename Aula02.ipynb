{
  "nbformat": 4,
  "nbformat_minor": 0,
  "metadata": {
    "colab": {
      "name": "Aula02.ipynb",
      "version": "0.3.2",
      "provenance": [],
      "include_colab_link": true
    },
    "language_info": {
      "codemirror_mode": {
        "name": "ipython",
        "version": 2
      },
      "file_extension": ".py",
      "mimetype": "text/x-python",
      "name": "python",
      "nbconvert_exporter": "python",
      "pygments_lexer": "ipython2",
      "version": "2.7.10"
    },
    "kernelspec": {
      "display_name": "Python 2",
      "language": "python",
      "name": "python2"
    }
  },
  "cells": [
    {
      "cell_type": "markdown",
      "metadata": {
        "id": "view-in-github",
        "colab_type": "text"
      },
      "source": [
        "<a href=\"https://colab.research.google.com/github/agiribeiro/Python_beginner/blob/master/Aula02.ipynb\" target=\"_parent\"><img src=\"https://colab.research.google.com/assets/colab-badge.svg\" alt=\"Open In Colab\"/></a>"
      ]
    },
    {
      "cell_type": "markdown",
      "metadata": {
        "id": "CML7fJvHp2S0",
        "colab_type": "text"
      },
      "source": [
        "#Estruturas de Controle"
      ]
    },
    {
      "cell_type": "markdown",
      "metadata": {
        "id": "PxJ-lFoPp2S7",
        "colab_type": "text"
      },
      "source": [
        "##If"
      ]
    },
    {
      "cell_type": "markdown",
      "metadata": {
        "id": "oxAfQK6hp2S8",
        "colab_type": "text"
      },
      "source": [
        "if condição:\n",
        "    \n",
        "    algoritmo"
      ]
    },
    {
      "cell_type": "code",
      "metadata": {
        "id": "W-w388Mlp2S8",
        "colab_type": "code",
        "outputId": "cfac2ba7-b4cd-4398-abbd-c7656de62e2a",
        "colab": {}
      },
      "source": [
        "x = 12\n",
        "if x >10:\n",
        "    print \"Hello\""
      ],
      "execution_count": 0,
      "outputs": [
        {
          "output_type": "stream",
          "text": [
            "Hello\n"
          ],
          "name": "stdout"
        }
      ]
    },
    {
      "cell_type": "markdown",
      "metadata": {
        "id": "CPiB0pQhp2TF",
        "colab_type": "text"
      },
      "source": [
        "##If-else"
      ]
    },
    {
      "cell_type": "markdown",
      "metadata": {
        "id": "vlK8DIDEp2TG",
        "colab_type": "text"
      },
      "source": [
        "if condição:\n",
        "    \n",
        "    algoritmo\n",
        "    \n",
        "else:\n",
        "    \n",
        "    algoritmo"
      ]
    },
    {
      "cell_type": "code",
      "metadata": {
        "id": "2D29_8nqp2TH",
        "colab_type": "code",
        "outputId": "da39c5a2-50c6-4adb-8395-c33fa454f030",
        "colab": {}
      },
      "source": [
        "x = 12\n",
        "if x > 10:\n",
        "    print \"hello\"\n",
        "else:\n",
        "    print \"world\""
      ],
      "execution_count": 0,
      "outputs": [
        {
          "output_type": "stream",
          "text": [
            "hello\n"
          ],
          "name": "stdout"
        }
      ]
    },
    {
      "cell_type": "markdown",
      "metadata": {
        "id": "OIUmU-UVp2TN",
        "colab_type": "text"
      },
      "source": [
        "##if-elif"
      ]
    },
    {
      "cell_type": "markdown",
      "metadata": {
        "collapsed": false,
        "id": "3vDsKDihp2TO",
        "colab_type": "text"
      },
      "source": [
        "if condição:\n",
        "    \n",
        "    algoritmo\n",
        "\n",
        "elif condição:\n",
        "    \n",
        "    algoritmo\n",
        "\n",
        "else:\n",
        "    \n",
        "    algoritmo"
      ]
    },
    {
      "cell_type": "code",
      "metadata": {
        "id": "YZpdiby4p2TP",
        "colab_type": "code",
        "outputId": "27c572f2-e0a5-4377-cb94-cc4d1293f249",
        "colab": {}
      },
      "source": [
        "x = 10\n",
        "y = 12\n",
        "if x > y:\n",
        "    print \"x>y\"\n",
        "elif x < y:\n",
        "    print \"x<y\"\n",
        "else:\n",
        "    print \"x=y\""
      ],
      "execution_count": 0,
      "outputs": [
        {
          "output_type": "stream",
          "text": [
            "x<y\n"
          ],
          "name": "stdout"
        }
      ]
    },
    {
      "cell_type": "markdown",
      "metadata": {
        "id": "WYxVm4nlp2TU",
        "colab_type": "text"
      },
      "source": [
        "Uma estrutura **if** dentro de outro if ou if-elif ou if-else é chamado de \"if aninhado\"\n"
      ]
    },
    {
      "cell_type": "code",
      "metadata": {
        "id": "MbMHVDSYp2TV",
        "colab_type": "code",
        "outputId": "6df28aa1-d232-4149-f4ff-8ace5c423c28",
        "colab": {}
      },
      "source": [
        "x = 10\n",
        "y = 12\n",
        "if x > y:\n",
        "    print \"x>y\"\n",
        "elif x < y:\n",
        "    print \"x<y\"\n",
        "    if x==10:\n",
        "        print \"x=10\"\n",
        "    else:\n",
        "        print \"invalid\"\n",
        "else:\n",
        "    print \"x=y\""
      ],
      "execution_count": 0,
      "outputs": [
        {
          "output_type": "stream",
          "text": [
            "x<y\n",
            "x=10\n"
          ],
          "name": "stdout"
        }
      ]
    },
    {
      "cell_type": "markdown",
      "metadata": {
        "id": "X9P8rmxQp2Ta",
        "colab_type": "text"
      },
      "source": [
        "##Loops"
      ]
    },
    {
      "cell_type": "markdown",
      "metadata": {
        "id": "cPNhceavp2Tb",
        "colab_type": "text"
      },
      "source": [
        "###For"
      ]
    },
    {
      "cell_type": "markdown",
      "metadata": {
        "collapsed": false,
        "id": "r4_pb2cfp2Tb",
        "colab_type": "text"
      },
      "source": [
        "for *variávei* in *objeto*:\n",
        "    \n",
        "    algoritmo"
      ]
    },
    {
      "cell_type": "code",
      "metadata": {
        "id": "y5oy0ucxp2Tc",
        "colab_type": "code",
        "outputId": "fcff36d2-41db-42c5-d967-c9af5e3239d7",
        "colab": {}
      },
      "source": [
        "for i in range(5):\n",
        "    print i"
      ],
      "execution_count": 0,
      "outputs": [
        {
          "output_type": "stream",
          "text": [
            "0\n",
            "1\n",
            "2\n",
            "3\n",
            "4\n"
          ],
          "name": "stdout"
        }
      ]
    },
    {
      "cell_type": "markdown",
      "metadata": {
        "id": "TITQ2Yhap2Tj",
        "colab_type": "text"
      },
      "source": [
        "No exemplo acima, i itera sobre o 0,1,2,3,4. Cada ciclo leva um valor e executa o algoritmo dentro do loop. Também é possível iterar em uma lista aninhada ilustrada abaixo."
      ]
    },
    {
      "cell_type": "code",
      "metadata": {
        "id": "k0vp95hcp2Tl",
        "colab_type": "code",
        "outputId": "294249dc-bf01-43b3-e5dc-e08df4c2fc8d",
        "colab": {}
      },
      "source": [
        "list_of_lists = [[1, 2, 3], [4, 5, 6], [7, 8, 9]]\n",
        "for list1 in list_of_lists:\n",
        "        print list1"
      ],
      "execution_count": 0,
      "outputs": [
        {
          "output_type": "stream",
          "text": [
            "[1, 2, 3]\n",
            "[4, 5, 6]\n",
            "[7, 8, 9]\n"
          ],
          "name": "stdout"
        }
      ]
    },
    {
      "cell_type": "markdown",
      "metadata": {
        "id": "oY3uNCsWp2Tr",
        "colab_type": "text"
      },
      "source": [
        "Um caso de uso de um loop for aninhado neste caso seria,\n"
      ]
    },
    {
      "cell_type": "code",
      "metadata": {
        "id": "Xbi9xKucp2Tt",
        "colab_type": "code",
        "outputId": "30e845c4-8a7c-4d07-e993-f16208632dd8",
        "colab": {}
      },
      "source": [
        "list_of_lists = [[1, 2, 3], [4, 5, 6], [7, 8, 9]]\n",
        "for list1 in list_of_lists:\n",
        "    for x in list1:\n",
        "        print x"
      ],
      "execution_count": 0,
      "outputs": [
        {
          "output_type": "stream",
          "text": [
            "1\n",
            "2\n",
            "3\n",
            "4\n",
            "5\n",
            "6\n",
            "7\n",
            "8\n",
            "9\n"
          ],
          "name": "stdout"
        }
      ]
    },
    {
      "cell_type": "markdown",
      "metadata": {
        "id": "3MVfh7_yp2Tx",
        "colab_type": "text"
      },
      "source": [
        "###While"
      ]
    },
    {
      "cell_type": "markdown",
      "metadata": {
        "collapsed": false,
        "id": "w6pGYcPdp2Ty",
        "colab_type": "text"
      },
      "source": [
        "while condição:\n",
        "    \n",
        "    algoritmo"
      ]
    },
    {
      "cell_type": "code",
      "metadata": {
        "id": "neZUojQUp2Tz",
        "colab_type": "code",
        "outputId": "d1121469-baeb-4844-e2e7-4323ab3f068c",
        "colab": {}
      },
      "source": [
        "i = 1\n",
        "while i < 3:\n",
        "    print(i ** 2)\n",
        "    i = i+1\n",
        "print('Bye')"
      ],
      "execution_count": 0,
      "outputs": [
        {
          "output_type": "stream",
          "text": [
            "1\n",
            "4\n",
            "Bye\n"
          ],
          "name": "stdout"
        }
      ]
    },
    {
      "cell_type": "markdown",
      "metadata": {
        "id": "wmsCh-Dzp2T3",
        "colab_type": "text"
      },
      "source": [
        "##Break"
      ]
    },
    {
      "cell_type": "markdown",
      "metadata": {
        "id": "0S8hyU2hp2T4",
        "colab_type": "text"
      },
      "source": [
        "Como o nome diz. Ele é usado para sair de um loop quando uma condição se torna verdadeira ao executar o loop."
      ]
    },
    {
      "cell_type": "code",
      "metadata": {
        "id": "vnafAZQCp2T5",
        "colab_type": "code",
        "outputId": "a4a60797-0d03-465c-a54c-a246d997c4c8",
        "colab": {}
      },
      "source": [
        "for i in range(100):\n",
        "    print i\n",
        "    if i>=7:\n",
        "        break"
      ],
      "execution_count": 0,
      "outputs": [
        {
          "output_type": "stream",
          "text": [
            "0\n",
            "1\n",
            "2\n",
            "3\n",
            "4\n",
            "5\n",
            "6\n",
            "7\n"
          ],
          "name": "stdout"
        }
      ]
    },
    {
      "cell_type": "markdown",
      "metadata": {
        "id": "Z_rfYOoMp2T9",
        "colab_type": "text"
      },
      "source": [
        "##Continue"
      ]
    },
    {
      "cell_type": "markdown",
      "metadata": {
        "id": "MKIFNA4np2T-",
        "colab_type": "text"
      },
      "source": [
        "Continua o resto do loop. Às vezes, quando uma condição é satisfeita, há chances de o loop ser terminado. Isso pode ser evitado usando a instrução continue."
      ]
    },
    {
      "cell_type": "code",
      "metadata": {
        "id": "4iSJaLxjp2T_",
        "colab_type": "code",
        "outputId": "a3e7f203-6b2b-4d30-b03b-c63308b672fe",
        "colab": {}
      },
      "source": [
        "for i in range(10):\n",
        "    if i>4:\n",
        "        print \"The end.\"\n",
        "        continue\n",
        "    elif i<7:\n",
        "        print i"
      ],
      "execution_count": 0,
      "outputs": [
        {
          "output_type": "stream",
          "text": [
            "0\n",
            "1\n",
            "2\n",
            "3\n",
            "4\n",
            "The end.\n",
            "The end.\n",
            "The end.\n",
            "The end.\n",
            "The end.\n"
          ],
          "name": "stdout"
        }
      ]
    },
    {
      "cell_type": "markdown",
      "metadata": {
        "id": "F-zSQ_aZp2UG",
        "colab_type": "text"
      },
      "source": [
        "## Compreensão Listas"
      ]
    },
    {
      "cell_type": "markdown",
      "metadata": {
        "id": "FJx3oGoip2UH",
        "colab_type": "text"
      },
      "source": [
        "O Python simplifica a geração de uma lista obrigatória com uma única linha de código usando as compreensões de lista. Por exemplo, se eu precisar gerar múltiplos de dizer 27 eu escrevo o código usando para loop como,\n"
      ]
    },
    {
      "cell_type": "code",
      "metadata": {
        "id": "enwd2Pj0p2UI",
        "colab_type": "code",
        "outputId": "90ddc4b7-e1ab-4a86-9d4a-96ccdc0d88ec",
        "colab": {}
      },
      "source": [
        "res = []\n",
        "for i in range(1,11):\n",
        "    x = 27*i\n",
        "    res.append(x)\n",
        "print res"
      ],
      "execution_count": 0,
      "outputs": [
        {
          "output_type": "stream",
          "text": [
            "[27, 54, 81, 108, 135, 162, 189, 216, 243, 270]\n"
          ],
          "name": "stdout"
        }
      ]
    },
    {
      "cell_type": "markdown",
      "metadata": {
        "id": "MEnxZGWMp2UM",
        "colab_type": "text"
      },
      "source": [
        "Como você está gerando outra lista, a compreensão de listas é uma maneira mais eficiente de resolver esse problema.\n",
        "\n"
      ]
    },
    {
      "cell_type": "code",
      "metadata": {
        "id": "Fh2cXbSsp2UO",
        "colab_type": "code",
        "outputId": "0783e62d-7850-415a-daca-3ae2822eb637",
        "colab": {}
      },
      "source": [
        "[27*x for x in range(1,11)]"
      ],
      "execution_count": 0,
      "outputs": [
        {
          "output_type": "execute_result",
          "data": {
            "text/plain": [
              "[27, 54, 81, 108, 135, 162, 189, 216, 243, 270]"
            ]
          },
          "metadata": {
            "tags": []
          },
          "execution_count": 12
        }
      ]
    },
    {
      "cell_type": "markdown",
      "metadata": {
        "id": "d9zv0yU7p2UZ",
        "colab_type": "text"
      },
      "source": [
        "É isso aí!. Lembre-se apenas de colocá-lo entre colchetes\n"
      ]
    },
    {
      "cell_type": "markdown",
      "metadata": {
        "id": "hJIugChop2Ua",
        "colab_type": "text"
      },
      "source": [
        "Noções básicas sobre o código, o primeiro bit do código é sempre o algoritmo e, em seguida, deixar um espaço e, em seguida, gravar o loop necessário. Mas você pode estar se perguntando se os loops aninhados podem ser estendidos para listar as compreensões? Sim você pode."
      ]
    },
    {
      "cell_type": "code",
      "metadata": {
        "id": "PfypaNeLp2Ua",
        "colab_type": "code",
        "outputId": "b345ed7c-625f-4102-c997-c1b58e6fadca",
        "colab": {}
      },
      "source": [
        "[27*x for x in range(1,20) if x<=10]"
      ],
      "execution_count": 0,
      "outputs": [
        {
          "output_type": "execute_result",
          "data": {
            "text/plain": [
              "[27, 54, 81, 108, 135, 162, 189, 216, 243, 270]"
            ]
          },
          "metadata": {
            "tags": []
          },
          "execution_count": 13
        }
      ]
    },
    {
      "cell_type": "markdown",
      "metadata": {
        "id": "PRfK9gAMp2Ud",
        "colab_type": "text"
      },
      "source": [
        "Deixe-me adicionar mais um loop para você entender melhor,"
      ]
    },
    {
      "cell_type": "code",
      "metadata": {
        "id": "97vyfCffp2Ue",
        "colab_type": "code",
        "outputId": "c2ceb95e-0392-4ec8-d657-32a325b6a990",
        "colab": {}
      },
      "source": [
        "[27*z for i in range(50) if i==27 for z in range(1,11)]"
      ],
      "execution_count": 0,
      "outputs": [
        {
          "output_type": "execute_result",
          "data": {
            "text/plain": [
              "[27, 54, 81, 108, 135, 162, 189, 216, 243, 270]"
            ]
          },
          "metadata": {
            "tags": []
          },
          "execution_count": 14
        }
      ]
    }
  ]
}