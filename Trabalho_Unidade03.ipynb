{
  "nbformat": 4,
  "nbformat_minor": 0,
  "metadata": {
    "colab": {
      "name": "Trabalho_Unidade03.ipynb",
      "version": "0.3.2",
      "provenance": [],
      "include_colab_link": true
    },
    "kernelspec": {
      "name": "python3",
      "display_name": "Python 3"
    }
  },
  "cells": [
    {
      "cell_type": "markdown",
      "metadata": {
        "id": "view-in-github",
        "colab_type": "text"
      },
      "source": [
        "<a href=\"https://colab.research.google.com/github/agiribeiro/Python_beginner/blob/master/Trabalho_Unidade03.ipynb\" target=\"_parent\"><img src=\"https://colab.research.google.com/assets/colab-badge.svg\" alt=\"Open In Colab\"/></a>"
      ]
    },
    {
      "cell_type": "markdown",
      "metadata": {
        "id": "AyZaZhLTwWRt",
        "colab_type": "text"
      },
      "source": [
        "#TRABALHO UNIDADE 3\n",
        "Intruções: Enviar o aquivo .ipynb pelo sigaa até o dia 17 de junho no horário da aula"
      ]
    },
    {
      "cell_type": "markdown",
      "metadata": {
        "id": "RVvyffmHwMwT",
        "colab_type": "text"
      },
      "source": [
        "#Questão 1:\n",
        "\n",
        "Desenvolva um jogo da forca. O programa terá uma lista de palavras lidas de uma lista e escolherá uma palavra aleatoriamente. O jogador vai tentar descobrir essa palavra, mas só poderá errar 6 vezes antes de ser enforcado.\n",
        "\n",
        "Digite uma letra: A\n",
        "-> Você errou pela 1ª vez. Tente de novo!\n",
        "\n",
        "Digite uma letra: O\n",
        "A palavra é: _ _ _ _ O\n",
        "\n",
        "Digite uma letra: E\n",
        "A palavra é: _ E _ _ O\n",
        "\n",
        "Digite uma letra: S\n",
        "-> Você errou pela 2ª vez. Tente de novo!\n",
        "\n",
        "Quando errar pela 6ª vez imprimir: Enforcado e exibir a palavra correta"
      ]
    },
    {
      "cell_type": "code",
      "metadata": {
        "id": "Lc1GgcVoIFAe",
        "colab_type": "code",
        "colab": {}
      },
      "source": [
        "#digite seu código aqui"
      ],
      "execution_count": 0,
      "outputs": []
    },
    {
      "cell_type": "markdown",
      "metadata": {
        "id": "YPgQrI_ZwUEL",
        "colab_type": "text"
      },
      "source": [
        "#Questão 2\n",
        "\n",
        "Desenvolva um sistema de banco em python. Você deve exibir 6 menus: \n",
        "\n",
        "1. Criar nova conta. Uma nova conta deve conter ID, NOME e SALDO\n",
        "2. Adicionar dinheiro a conta. Adiciona uma quantia (dita pelo usuário) a conta de um ID especifico, mostra quando ficou o saldo final.\n",
        "3. Remover dinheiro da conta. Remove uma quantia (dita pelo usuário) a conta de um ID especifico, mostra quanto ficou o saldo final. Emitir um alerta caso o saldo tenha ficado negativo. \n",
        "4. Mostrar saldo de um nome dado\n",
        "5. Apagar uma conta (apaga todos os dados de um determinado ID)\n",
        "6. Apagar todas as contas\n",
        "\n",
        "ps: lembre-se de tratar exceções, caso o menu selecionado,  ID ou nome sugerido não exista imprimir uma alerta avisando que não existe.\n",
        "\n"
      ]
    },
    {
      "cell_type": "code",
      "metadata": {
        "id": "uRlD1-25Jkcn",
        "colab_type": "code",
        "colab": {}
      },
      "source": [
        "#digite seu código aqui"
      ],
      "execution_count": 0,
      "outputs": []
    },
    {
      "cell_type": "markdown",
      "metadata": {
        "id": "iPTdUHB3JoiP",
        "colab_type": "text"
      },
      "source": [
        "#Questão 3\n",
        "\n",
        "Criei um simulador de jogo de poker. Considere que o baralho tem cartas : 2,3,4,5,6,7,8,9,10, Valete, Dama, Rei e Às.\n",
        "Nessa simulação você terá dois jogadores.\n",
        "\n",
        "**Primeiro passo: Atribua uma mão contendo 5 cartas, geradas de forma aleatória, para cada jogador. Cada carta tem um VALOR e um NAIPE**\n",
        "\n",
        "**Segundo passo: Compare os jogos dos dois jogadores e diga qual o nome do jogo que cada um tem na sua mão, mostre as mãos dos dois, e diga quem foi o vencedor.**\n",
        "\n",
        "POSSIBILIDADES DE MÃOS:\n",
        "\n",
        "**Classificação de Mãos de Poker Tradicional **\n",
        "\n",
        "**Straight Flush: Cinco cartas em ordem numérica, todas do mesmo naipe.**\n",
        "\n",
        "No caso de um empate: A carta de maior valor no topo da sequência vence.\n",
        "\n",
        "O melhor Straight Flush possível é conhecido como Royal Flush, que consiste na sequência de Ás, Rei, Dama, Valete e Dez do mesmo naipe. O Royal Flush é uma mão imbatível.\n",
        "\n",
        "**Quadra: \n",
        "Quatro cartas de mesmo valor, e uma outra carta como 'Kicker'.**\n",
        "\n",
        "Quadra\n",
        "No caso de um empate: A maior quadra vence. Em jogos com cartas comunitárias onde os jogadores podem conseguir a mesma quadra, a maior quinta carta (Kicker) vence.\n",
        "\n",
        "**Full House: Três cartas do mesmo valor, e duas outras cartas diferentes de mesmo valor.**\n",
        "\n",
        "Full House\n",
        "No caso de um empate: As maiores três cartas do mesmo valor vencem o pote. Em jogos com cartas comunitárias onde os jogadores podem conseguir as mesmas três cartas de valor igual, vence aquele com o par de maior valor.\n",
        "\n",
        "**Flush: Cinco cartas do mesmo naipe.**\n",
        "\n",
        "Flush\n",
        "No caso de um empate: O jogador com a carta de maior valor vence. Se necessário, a segunda carta, a terceira carta, a quarta carta e a quinta carta podem ser utilizadas para desempate. Se as cinco cartas forem do mesmo valor, o pote é dividido. O naipe nunca é utilizado como critério de desempate no poker.\n",
        "\n",
        "**Sequência: Cinco cartas em sequência.**\n",
        "\n",
        "Sequência\n",
        "No caso de um empate: A carta de maior valor no topo da sequência vence.\n",
        "\n",
        "Observação: O Ás pode ser utilizado no topo ou na parte baixa da sequência, e é a única carta que pode ser utilizada dessa forma. A,K,Q,J,T é a maior sequência (Ás alto ou Ace High); 5,4,3,2,A é a menor sequência (5 alto ou Five High).\n",
        "\n",
        "**Trinca: Três cartas do mesmo valor, e duas outras cartas não relacionadas.**\n",
        "\n",
        "Trinca\n",
        "No caso de um empate: A trinca de maior valor vence. Em jogos com cartas comunitárias onde os jogadores podem ter a mesma trinca, ganha o jogador com a maior carta além das três de mesmo valor, e se necessário a segunda maior carta será utilizada para desempate.\n",
        "\n",
        "**Dois pares: Duas cartas de um mesmo valor, outras duas cartas diferentes de mesmo valor, e uma outra carta não relacionada**\n",
        "\n",
        "Dois Pares\n",
        "No caso de um empate: O par maior vence. Se os jogadores possuírem o mesmo par mais alto, o segundo par decide o vencedor. Se os dois jogadores tiverem pares idênticos, a quinta carta define o vencedor.\n",
        "\n",
        "**Um Par: Duas cartas do mesmo valor, e três outras cartas não relacionadas.**\n",
        "\n",
        "Um Par\n",
        "No caso de um empate: O par maior vence. Se dois jogadores tiverem o mesmo par, a maior carta fora do par define o vencedor, e se necessário a segunda maior carta e a terceira maior carta pode ser utilizadas para o desempate.\n",
        "\n",
        "**Carta Alta: Qualquer mão que não esteja nas categorias acima.**\n",
        "\n",
        "Carta Alta\n",
        "No caso de um empate: A maior carta vence, e se necessário, a segunda carta, a terceira carta, a quarta carta e a quinta carta podem ser utilizadas para desempate.\n",
        "\n",
        "Mais informações: https://www.pokerstars.com/br/poker/games/rules/hand-rankings/?no_redirect=1"
      ]
    },
    {
      "cell_type": "code",
      "metadata": {
        "id": "DZKRP5u8JmeA",
        "colab_type": "code",
        "colab": {}
      },
      "source": [
        "#Digite seu código aqui"
      ],
      "execution_count": 0,
      "outputs": []
    }
  ]
}