{
  "nbformat": 4,
  "nbformat_minor": 0,
  "metadata": {
    "colab": {
      "name": "Gabarito_Revisão-p3.ipynb",
      "version": "0.3.2",
      "provenance": [],
      "collapsed_sections": [],
      "include_colab_link": true
    },
    "kernelspec": {
      "name": "python3",
      "display_name": "Python 3"
    }
  },
  "cells": [
    {
      "cell_type": "markdown",
      "metadata": {
        "id": "view-in-github",
        "colab_type": "text"
      },
      "source": [
        "<a href=\"https://colab.research.google.com/github/agiribeiro/Python_beginner/blob/master/Gabarito_Revis%C3%A3o_p3.ipynb\" target=\"_parent\"><img src=\"https://colab.research.google.com/assets/colab-badge.svg\" alt=\"Open In Colab\"/></a>"
      ]
    },
    {
      "cell_type": "markdown",
      "metadata": {
        "id": "4p5-wjZ3pkzS",
        "colab_type": "text"
      },
      "source": [
        "#Revisão - prova 3\n"
      ]
    },
    {
      "cell_type": "markdown",
      "metadata": {
        "id": "w6wlZ0cTpw-n",
        "colab_type": "text"
      },
      "source": [
        "##Questão 1:  \n",
        "Faça um programa que leia 10 números, correspondente a notas, e armazene em uma lista. Após esta entrada de dados, faça:\n",
        "\n",
        "1. Mostre a quantidade de valores que foram lidos;\n",
        "2. Exiba todos os valores na ordem em que foram informados, um ao lado do outro;\n",
        "3. Exiba todos os valores na ordem inversa à que foram informados, um abaixo do outro;\n",
        "4. Calcule e mostre a média dos valores;\n",
        "5. Calcule e mostre a quantidade de valores acima da média calculada."
      ]
    },
    {
      "cell_type": "code",
      "metadata": {
        "id": "0ANI9opSxY_H",
        "colab_type": "code",
        "colab": {}
      },
      "source": [
        "#Digite seu código aqui\n",
        "\n",
        "notas = list(map(int,(input(\"Digite 10 números:\").split())))\n",
        "cont=0\n",
        "#print (notas)\n",
        "print (\"Foram lidos\", len(notas), \"valores\")\n",
        "print (''.join(map(str,(notas))))\n",
        "notas.reverse()\n",
        "print (\"Lista reversa: \", notas)\n",
        "media = sum(notas)/len(notas)\n",
        "print (\"Média dos valores: \", media)\n",
        "\n",
        "for i in notas:\n",
        "  if (i > media):\n",
        "    cont= cont+1\n",
        "\n",
        "print (cont, \"valores acima da média\", media)\n"
      ],
      "execution_count": 0,
      "outputs": []
    },
    {
      "cell_type": "markdown",
      "metadata": {
        "id": "71RKtS3Eu4m7",
        "colab_type": "text"
      },
      "source": [
        "##Questão 2: \n",
        "Faça um programa que simule um lançamento de dados. Lance o dado 100 vezes e armazene os resultados em um vetor . Depois, mostre quantas vezes cada valor foi conseguido. Dica: use um vetor de contadores(1-6) e uma função para gerar numeros aleatórios, simulando os lançamentos dos dados."
      ]
    },
    {
      "cell_type": "code",
      "metadata": {
        "id": "kxcMypSYxbug",
        "colab_type": "code",
        "colab": {}
      },
      "source": [
        "#Digite seu código aqui\n",
        "import random as rd\n",
        "\n",
        "resultados= []\n",
        "\n",
        "for i in range(100):\n",
        "  resultados.append(rd.randrange(1,7))\n",
        "#print(resultados)\n",
        "for i in range(1,7):  \n",
        "  print (\"O numero\", i, \"aparece\", resultados.count(i), \"vezes\")\n"
      ],
      "execution_count": 0,
      "outputs": []
    },
    {
      "cell_type": "markdown",
      "metadata": {
        "id": "xoLKaBi3pqaA",
        "colab_type": "text"
      },
      "source": [
        "##Questão 3: \n",
        "Escreva um programa que lê duas notas de vários alunos e\n",
        "armazena tais notas em um dicionário, onde a chave é o nome do aluno. Escreva uma função que retorna a média do aluno, dado seu nome. "
      ]
    },
    {
      "cell_type": "code",
      "metadata": {
        "id": "VrKjDJn3xcgt",
        "colab_type": "code",
        "colab": {}
      },
      "source": [
        "#Digite seu código aqui\n",
        "\n",
        "qtd = int (input(\"Digite a quantidade de alunos que deseja armazenar: \"))\n",
        "dicionario={}\n",
        "\n",
        "def media (dicionario, nome):\n",
        "    media = dicionario[nome]\n",
        "    media = (media[0]+media[1])/2\n",
        "    return (media)\n",
        "\n",
        "for i in range(qtd):\n",
        "  nome = input(\"Digite o nome do aluno: \")\n",
        "  nota1= int (input(\"Digite a nota 1: \"))\n",
        "  nota2= int (input(\"Digite a nota 2: \"))\n",
        "  dicionario[nome]= [nota1, nota2]  \n",
        "\n",
        "nome2 = input (\"Digite um nome para pesquisa: \")\n",
        "  \n",
        "if (nome2 in dicionario):\n",
        "  print (\"Media de\" , nome2, \"é: \" ,media (dicionario, nome2))\n",
        "else: \n",
        "  print (\"Nome não existe\")"
      ],
      "execution_count": 0,
      "outputs": []
    },
    {
      "cell_type": "markdown",
      "metadata": {
        "id": "xoaF0kfUvb5w",
        "colab_type": "text"
      },
      "source": [
        "##Questão 4:\n",
        "Faça um programa que solicite o nome do usuário e imprima-o da seguinte maneira: \n",
        "\n",
        "F  \n",
        "FU  \n",
        "FUL     \n",
        "FULA    \n",
        "FULAN   \n",
        "FULANO   "
      ]
    },
    {
      "cell_type": "code",
      "metadata": {
        "id": "ZOfCTaMKxdHy",
        "colab_type": "code",
        "colab": {}
      },
      "source": [
        "#Digite seu código aqui\n",
        "nome = input (\"Digite um nome: \")\n",
        "\n",
        "def imprimir(nome, n):\n",
        "  print (nome[:n+1])   \n",
        "\n",
        "for i in range(len(nome)):\n",
        "  imprimir(nome,i)\n",
        "  "
      ],
      "execution_count": 0,
      "outputs": []
    },
    {
      "cell_type": "markdown",
      "metadata": {
        "id": "wHLL1idwvt8K",
        "colab_type": "text"
      },
      "source": [
        "##Questão 5:\n",
        "Faça um programa que ler e imprime um número de telefone de 8 digitos e adicione automaticamente o 9 na frente. "
      ]
    },
    {
      "cell_type": "code",
      "metadata": {
        "id": "ocUzm-kkxd2Y",
        "colab_type": "code",
        "colab": {}
      },
      "source": [
        "#Digite seu código aqui\n",
        "numero = list(input (\"numero: \"))\n",
        "\n",
        "numero.insert(0,'9')\n",
        "string = ''.join(numero)\n",
        "print (string)"
      ],
      "execution_count": 0,
      "outputs": []
    },
    {
      "cell_type": "markdown",
      "metadata": {
        "id": "UIOQbqsSwxxT",
        "colab_type": "text"
      },
      "source": [
        "##Questão 6: \n",
        "Desenvolva um programa que criptografe a palavra digitada. O código de criptografia é trocar a letra por duas letras seguintes, por exemplo o A será trocado pelo C , o B pelo D e assim por diante. \n",
        "\n",
        "Exemplo:\n",
        "Entrada: ANNARIBEIRO\n",
        "\n",
        "Saída:  CPPCTKDGKTQ"
      ]
    },
    {
      "cell_type": "code",
      "metadata": {
        "id": "Hajlye_AxeU6",
        "colab_type": "code",
        "colab": {}
      },
      "source": [
        "#Digite seu código aqui\n",
        "palavra = input (\"Digite uma palavra:\")\n",
        "palavra2 = []\n",
        "\n",
        "for i in range(len(palavra)):\n",
        "  a= ord(palavra[i])+2\n",
        "  palavra2.append(chr(a))\n",
        "  \n",
        "print (''.join(palavra2))\n"
      ],
      "execution_count": 0,
      "outputs": []
    }
  ]
}