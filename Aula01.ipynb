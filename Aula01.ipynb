{
  "nbformat": 4,
  "nbformat_minor": 0,
  "metadata": {
    "colab": {
      "name": "Aula01.ipynb",
      "version": "0.3.2",
      "provenance": [],
      "include_colab_link": true
    },
    "kernelspec": {
      "name": "python3",
      "display_name": "Python 3"
    }
  },
  "cells": [
    {
      "cell_type": "markdown",
      "metadata": {
        "id": "view-in-github",
        "colab_type": "text"
      },
      "source": [
        "<a href=\"https://colab.research.google.com/github/agiribeiro/Python_beginner/blob/master/Aula01.ipynb\" target=\"_parent\"><img src=\"https://colab.research.google.com/assets/colab-badge.svg\" alt=\"Open In Colab\"/></a>"
      ]
    },
    {
      "cell_type": "markdown",
      "metadata": {
        "id": "uxZlkypdU0jM",
        "colab_type": "text"
      },
      "source": [
        "# Primeiros passos com Python"
      ]
    },
    {
      "cell_type": "markdown",
      "metadata": {
        "id": "uT-pVdP3U6Fz",
        "colab_type": "text"
      },
      "source": [
        "Este tutorial é para quem quer começar a aprender python. "
      ]
    },
    {
      "cell_type": "markdown",
      "metadata": {
        "id": "xmE3mK7hgAVJ",
        "colab_type": "text"
      },
      "source": [
        "##Variáveis\n",
        "\n",
        "Um nome que é usado para nomear um valor é chamado de variável. Variáveis podem ser declaradas e receber valores como nos exemplos abaixo:\n"
      ]
    },
    {
      "cell_type": "code",
      "metadata": {
        "id": "7-KEne7JgzkD",
        "colab_type": "code",
        "colab": {}
      },
      "source": [
        "x = 2\n",
        "y = 5\n",
        "xy = 'Hello'"
      ],
      "execution_count": 0,
      "outputs": []
    },
    {
      "cell_type": "markdown",
      "metadata": {
        "id": "uIxEiJTphFvh",
        "colab_type": "text"
      },
      "source": [
        "Para imprimir use *print*"
      ]
    },
    {
      "cell_type": "code",
      "metadata": {
        "id": "3WfwgzIIhK76",
        "colab_type": "code",
        "colab": {
          "base_uri": "https://localhost:8080/",
          "height": 51
        },
        "outputId": "afd65228-dae5-4d54-9c18-b1b7891df9cb"
      },
      "source": [
        "print (x+y)\n",
        "print (xy)\n"
      ],
      "execution_count": 9,
      "outputs": [
        {
          "output_type": "stream",
          "text": [
            "7\n",
            "Hello\n"
          ],
          "name": "stdout"
        }
      ]
    },
    {
      "cell_type": "markdown",
      "metadata": {
        "id": "YsLDoHGgh-cE",
        "colab_type": "text"
      },
      "source": [
        "Múltiplas variáveis podem estar associadas ao mesmo valor.\n",
        "\n"
      ]
    },
    {
      "cell_type": "code",
      "metadata": {
        "id": "QSeNuaFBh_cX",
        "colab_type": "code",
        "colab": {
          "base_uri": "https://localhost:8080/",
          "height": 34
        },
        "outputId": "2382494e-354c-4fb8-ed9e-fb734722e0d2"
      },
      "source": [
        "x=y=1\n",
        "print (x,y)"
      ],
      "execution_count": 12,
      "outputs": [
        {
          "output_type": "stream",
          "text": [
            "1 1\n"
          ],
          "name": "stdout"
        }
      ]
    },
    {
      "cell_type": "markdown",
      "metadata": {
        "id": "tZRUn9DSi57C",
        "colab_type": "text"
      },
      "source": [
        "Uma variável pode receber um texto também"
      ]
    },
    {
      "cell_type": "code",
      "metadata": {
        "id": "KspRlSj-i9eq",
        "colab_type": "code",
        "colab": {
          "base_uri": "https://localhost:8080/",
          "height": 34
        },
        "outputId": "e95a68a2-a9c7-4669-96d6-55aad68a3f51"
      },
      "source": [
        "texto = 'Olá todo mundo'\n",
        "print (texto)"
      ],
      "execution_count": 13,
      "outputs": [
        {
          "output_type": "stream",
          "text": [
            "Olá todo mundo\n"
          ],
          "name": "stdout"
        }
      ]
    },
    {
      "cell_type": "markdown",
      "metadata": {
        "id": "d25uANcZ17Aj",
        "colab_type": "text"
      },
      "source": [
        "##Dados informados pelo usuário\n",
        "\n",
        "O procedimento input() solicita ao usuário dados que podem ser associados a variáveis. É possível personalizar a mensagem de solicitação, como mostrado abaixo.\n"
      ]
    },
    {
      "cell_type": "code",
      "metadata": {
        "id": "ZVe0qk-I2DMh",
        "colab_type": "code",
        "colab": {
          "base_uri": "https://localhost:8080/",
          "height": 78
        },
        "outputId": "ea12cbce-d56e-4dd9-eafe-a3803c0eab36"
      },
      "source": [
        "texto_recebido =  input(\"Diga um valor: \")\n",
        "texto_recebido"
      ],
      "execution_count": 14,
      "outputs": [
        {
          "output_type": "stream",
          "text": [
            "Diga um valor: 10\n"
          ],
          "name": "stdout"
        },
        {
          "output_type": "execute_result",
          "data": {
            "text/plain": [
              "'10'"
            ]
          },
          "metadata": {
            "tags": []
          },
          "execution_count": 14
        }
      ]
    },
    {
      "cell_type": "markdown",
      "metadata": {
        "id": "mBeu4n8T2PMu",
        "colab_type": "text"
      },
      "source": [
        "Por padrão, qualquer dado passada pelo usuário será tratado como texto. Para tratá-lo como um valor numérico, você deve usar os procedimentos int() ou float(), dependendo de serem números inteiros ou reais.\n"
      ]
    },
    {
      "cell_type": "code",
      "metadata": {
        "id": "uFXUEUvu2TGI",
        "colab_type": "code",
        "colab": {
          "base_uri": "https://localhost:8080/",
          "height": 158
        },
        "outputId": "83dfe7b5-c811-4fe1-c919-04d50f2cf7af"
      },
      "source": [
        "inteiro = int(input(\"Diga um valor inteiro: \"))\n",
        "print (inteiro + 1)\n",
        "\n",
        "real = float(input(\"Diga um valor real: \"))\n",
        "print (real + 1)\n",
        "\n",
        "inteiro_teste = input(\"Diga um valor inteiro: \")\n",
        "print (inteiro + 1)"
      ],
      "execution_count": 46,
      "outputs": [
        {
          "output_type": "stream",
          "text": [
            "Diga um valor inteiro: 10\n",
            "11\n",
            "Diga um valor real: 10.5\n",
            "11.5\n",
            "Diga um valor inteiro: 10\n",
            "11\n"
          ],
          "name": "stdout"
        }
      ]
    },
    {
      "cell_type": "code",
      "metadata": {
        "id": "ykI0zJ-7-Np7",
        "colab_type": "code",
        "colab": {
          "base_uri": "https://localhost:8080/",
          "height": 34
        },
        "outputId": "73f0a871-f3c8-4a4e-8427-ddda0087e77a"
      },
      "source": [
        "type (inteiro)"
      ],
      "execution_count": 44,
      "outputs": [
        {
          "output_type": "execute_result",
          "data": {
            "text/plain": [
              "int"
            ]
          },
          "metadata": {
            "tags": []
          },
          "execution_count": 44
        }
      ]
    },
    {
      "cell_type": "code",
      "metadata": {
        "id": "o9sh3zAG-Qeh",
        "colab_type": "code",
        "colab": {
          "base_uri": "https://localhost:8080/",
          "height": 34
        },
        "outputId": "44fa6520-fd9e-4c6b-a784-da9d408558ac"
      },
      "source": [
        "type (real)"
      ],
      "execution_count": 45,
      "outputs": [
        {
          "output_type": "execute_result",
          "data": {
            "text/plain": [
              "float"
            ]
          },
          "metadata": {
            "tags": []
          },
          "execution_count": 45
        }
      ]
    },
    {
      "cell_type": "code",
      "metadata": {
        "id": "QmOpnHC9-cGG",
        "colab_type": "code",
        "colab": {
          "base_uri": "https://localhost:8080/",
          "height": 34
        },
        "outputId": "8f2fdde3-46c5-40e6-bcb3-b6fce9ef0132"
      },
      "source": [
        "type (inteiro_teste)"
      ],
      "execution_count": 47,
      "outputs": [
        {
          "output_type": "execute_result",
          "data": {
            "text/plain": [
              "str"
            ]
          },
          "metadata": {
            "tags": []
          },
          "execution_count": 47
        }
      ]
    },
    {
      "cell_type": "markdown",
      "metadata": {
        "id": "VmfNKUAc2qrF",
        "colab_type": "text"
      },
      "source": [
        "##Operações Aritméticas\n",
        "\n",
        "| Símbolo | Função|\n",
        "|----|---|\n",
        "| +  | Adição |\n",
        "| -  | Subtração |\n",
        "| /  | Divisão |\n",
        "| %  | mod / resto |\n",
        "| *  | Multicação |\n",
        "| //  | Divisão de inteiros (floor) |\n",
        "| **  | Potência |"
      ]
    },
    {
      "cell_type": "markdown",
      "metadata": {
        "id": "6eHC13Ca4ctW",
        "colab_type": "text"
      },
      "source": [
        "Alguns exemplos:"
      ]
    },
    {
      "cell_type": "code",
      "metadata": {
        "id": "KUtYoygx4evZ",
        "colab_type": "code",
        "colab": {
          "base_uri": "https://localhost:8080/",
          "height": 34
        },
        "outputId": "34e1c95f-f2ab-45f3-f716-01ead3f9136f"
      },
      "source": [
        "1+2"
      ],
      "execution_count": 18,
      "outputs": [
        {
          "output_type": "execute_result",
          "data": {
            "text/plain": [
              "3"
            ]
          },
          "metadata": {
            "tags": []
          },
          "execution_count": 18
        }
      ]
    },
    {
      "cell_type": "code",
      "metadata": {
        "id": "MKNeGFMR4iP1",
        "colab_type": "code",
        "colab": {
          "base_uri": "https://localhost:8080/",
          "height": 34
        },
        "outputId": "4eb7bc84-6129-4c94-fc09-7b2c43064f3c"
      },
      "source": [
        "2-1"
      ],
      "execution_count": 19,
      "outputs": [
        {
          "output_type": "execute_result",
          "data": {
            "text/plain": [
              "1"
            ]
          },
          "metadata": {
            "tags": []
          },
          "execution_count": 19
        }
      ]
    },
    {
      "cell_type": "code",
      "metadata": {
        "id": "FG9Hh4aW4iqR",
        "colab_type": "code",
        "colab": {
          "base_uri": "https://localhost:8080/",
          "height": 34
        },
        "outputId": "8c2f2e83-6e66-4e8f-b254-d36f79098e2e"
      },
      "source": [
        "2*3"
      ],
      "execution_count": 21,
      "outputs": [
        {
          "output_type": "execute_result",
          "data": {
            "text/plain": [
              "6"
            ]
          },
          "metadata": {
            "tags": []
          },
          "execution_count": 21
        }
      ]
    },
    {
      "cell_type": "code",
      "metadata": {
        "id": "4FQQS5wd4i18",
        "colab_type": "code",
        "colab": {
          "base_uri": "https://localhost:8080/",
          "height": 34
        },
        "outputId": "28d7a9d7-600d-48b2-d899-f6250ba289fd"
      },
      "source": [
        "4/2"
      ],
      "execution_count": 24,
      "outputs": [
        {
          "output_type": "execute_result",
          "data": {
            "text/plain": [
              "2.0"
            ]
          },
          "metadata": {
            "tags": []
          },
          "execution_count": 24
        }
      ]
    },
    {
      "cell_type": "code",
      "metadata": {
        "id": "nnofAWpW48oD",
        "colab_type": "code",
        "colab": {
          "base_uri": "https://localhost:8080/",
          "height": 34
        },
        "outputId": "2731d065-facf-4aad-829c-3b9e5062111f"
      },
      "source": [
        "10%3"
      ],
      "execution_count": 25,
      "outputs": [
        {
          "output_type": "execute_result",
          "data": {
            "text/plain": [
              "1"
            ]
          },
          "metadata": {
            "tags": []
          },
          "execution_count": 25
        }
      ]
    },
    {
      "cell_type": "markdown",
      "metadata": {
        "id": "TpRZ5ItM5CK_",
        "colab_type": "text"
      },
      "source": [
        "Divisão floor converte o resultado para o menor inteiro mais próximo"
      ]
    },
    {
      "cell_type": "code",
      "metadata": {
        "id": "Sz82K_1p4-0a",
        "colab_type": "code",
        "colab": {
          "base_uri": "https://localhost:8080/",
          "height": 34
        },
        "outputId": "601f35f8-c06c-475e-a9ac-46746056d111"
      },
      "source": [
        "5//2"
      ],
      "execution_count": 26,
      "outputs": [
        {
          "output_type": "execute_result",
          "data": {
            "text/plain": [
              "2"
            ]
          },
          "metadata": {
            "tags": []
          },
          "execution_count": 26
        }
      ]
    },
    {
      "cell_type": "code",
      "metadata": {
        "id": "UGrX3JcL5LvC",
        "colab_type": "code",
        "colab": {
          "base_uri": "https://localhost:8080/",
          "height": 34
        },
        "outputId": "4bc2c348-e6a5-47fb-f4c8-b75614a4d294"
      },
      "source": [
        "4**2"
      ],
      "execution_count": 27,
      "outputs": [
        {
          "output_type": "execute_result",
          "data": {
            "text/plain": [
              "16"
            ]
          },
          "metadata": {
            "tags": []
          },
          "execution_count": 27
        }
      ]
    },
    {
      "cell_type": "markdown",
      "metadata": {
        "id": "2AUSK99D5Teo",
        "colab_type": "text"
      },
      "source": [
        "##Operadores Relacionais\n",
        "\n",
        "| Símbolo | Função |\n",
        "|----|---|\n",
        "| == | Verdadeiro (True), se for igual|\n",
        "| !=  | Verdadeiro, se for diferente |\n",
        "| < | Menor que |\n",
        "| > | Maior que |\n",
        "| <=  | Menor ou igual  |\n",
        "| >=  | Maior ou igual  |"
      ]
    },
    {
      "cell_type": "markdown",
      "metadata": {
        "id": "00LH9p_u5v3u",
        "colab_type": "text"
      },
      "source": [
        "Exemplos:"
      ]
    },
    {
      "cell_type": "code",
      "metadata": {
        "id": "OqlzSyVx5u-V",
        "colab_type": "code",
        "colab": {}
      },
      "source": [
        "a = 1"
      ],
      "execution_count": 0,
      "outputs": []
    },
    {
      "cell_type": "code",
      "metadata": {
        "id": "FF7BmfTB51IP",
        "colab_type": "code",
        "colab": {
          "base_uri": "https://localhost:8080/",
          "height": 34
        },
        "outputId": "effa640f-fc3f-49fc-e278-7348084a7bb5"
      },
      "source": [
        "a == 1"
      ],
      "execution_count": 29,
      "outputs": [
        {
          "output_type": "execute_result",
          "data": {
            "text/plain": [
              "True"
            ]
          },
          "metadata": {
            "tags": []
          },
          "execution_count": 29
        }
      ]
    },
    {
      "cell_type": "code",
      "metadata": {
        "id": "Sso8lb8q53MH",
        "colab_type": "code",
        "colab": {
          "base_uri": "https://localhost:8080/",
          "height": 34
        },
        "outputId": "b78fb48e-a7ad-4066-9cd1-fbee1df4891d"
      },
      "source": [
        "a != 1"
      ],
      "execution_count": 30,
      "outputs": [
        {
          "output_type": "execute_result",
          "data": {
            "text/plain": [
              "False"
            ]
          },
          "metadata": {
            "tags": []
          },
          "execution_count": 30
        }
      ]
    },
    {
      "cell_type": "code",
      "metadata": {
        "id": "c6Z7-lci56c-",
        "colab_type": "code",
        "colab": {
          "base_uri": "https://localhost:8080/",
          "height": 34
        },
        "outputId": "0f103122-8cd1-4231-bf26-030d497e92a9"
      },
      "source": [
        "a > 2"
      ],
      "execution_count": 31,
      "outputs": [
        {
          "output_type": "execute_result",
          "data": {
            "text/plain": [
              "False"
            ]
          },
          "metadata": {
            "tags": []
          },
          "execution_count": 31
        }
      ]
    },
    {
      "cell_type": "markdown",
      "metadata": {
        "id": "cah4ws9n59J2",
        "colab_type": "text"
      },
      "source": [
        "##Simplificando operações aritméticas "
      ]
    },
    {
      "cell_type": "markdown",
      "metadata": {
        "id": "fDuPmckm6u5b",
        "colab_type": "text"
      },
      "source": [
        "**round( )** função que arrendonda o número para o inteiro ou número mais próximo. Caso haja 2 argumentos, o segundo número representa a quantidade de casas decimais "
      ]
    },
    {
      "cell_type": "code",
      "metadata": {
        "id": "nPKIZa7U67yI",
        "colab_type": "code",
        "colab": {
          "base_uri": "https://localhost:8080/",
          "height": 51
        },
        "outputId": "bba71bcb-94cf-443c-cd38-2c2730f761af"
      },
      "source": [
        "print (round(5.6231))\n",
        "print (round(4.55892, 2))"
      ],
      "execution_count": 36,
      "outputs": [
        {
          "output_type": "stream",
          "text": [
            "6\n",
            "4.56\n"
          ],
          "name": "stdout"
        }
      ]
    },
    {
      "cell_type": "markdown",
      "metadata": {
        "id": "e22GANDd7ab4",
        "colab_type": "text"
      },
      "source": [
        "**complex( )** usado para definir um número completo **abs( )** retorna o valor absoluto da equação."
      ]
    },
    {
      "cell_type": "code",
      "metadata": {
        "id": "7Ni0F6Ve7HFV",
        "colab_type": "code",
        "colab": {
          "base_uri": "https://localhost:8080/",
          "height": 34
        },
        "outputId": "805e198a-9bf4-4182-e791-e25cd2a76a6f"
      },
      "source": [
        "c =complex('5+2j')\n",
        "print (abs(c))"
      ],
      "execution_count": 37,
      "outputs": [
        {
          "output_type": "stream",
          "text": [
            "5.385164807134504\n"
          ],
          "name": "stdout"
        }
      ]
    },
    {
      "cell_type": "markdown",
      "metadata": {
        "id": "qtcNq0iW7ldJ",
        "colab_type": "text"
      },
      "source": [
        "**range( )** retorna conjunto de inteiros em um determinado intervalo. Pode ter 1 , 2 ou 3 argumentos. Com 1 argumento retorna o conjunto de elementos começando do zero. Com 2  argumentos retorna os números no intervalo dos dois números (sendo o intervalo inicial aberto e o final fechado). Com 3 argumentos, o terceiro representa o passo.  Os elementos são retornados em uma lista (será explicado depois), porém no python 3 você precisa dizer que é uma lista para imprimir a mesma (os exemplos abaixo mostram isso)."
      ]
    },
    {
      "cell_type": "code",
      "metadata": {
        "id": "B3uE4fZ-7l78",
        "colab_type": "code",
        "colab": {
          "base_uri": "https://localhost:8080/",
          "height": 68
        },
        "outputId": "2af51621-d381-4151-bb54-efcb1dc17baa"
      },
      "source": [
        "print (range(3))\n",
        "print (range(2,9))\n",
        "print (range(3,27,3))"
      ],
      "execution_count": 42,
      "outputs": [
        {
          "output_type": "stream",
          "text": [
            "range(0, 3)\n",
            "range(2, 9)\n",
            "range(3, 27, 3)\n"
          ],
          "name": "stdout"
        }
      ]
    },
    {
      "cell_type": "code",
      "metadata": {
        "id": "R2anCw0G9_BM",
        "colab_type": "code",
        "colab": {
          "base_uri": "https://localhost:8080/",
          "height": 68
        },
        "outputId": "6e522fbf-4125-434e-e3b0-5a9fac4c7905"
      },
      "source": [
        "print (list(range(3)))\n",
        "print (list(range(2,9)))\n",
        "print (list(range(3,27,3)))"
      ],
      "execution_count": 43,
      "outputs": [
        {
          "output_type": "stream",
          "text": [
            "[0, 1, 2]\n",
            "[2, 3, 4, 5, 6, 7, 8]\n",
            "[3, 6, 9, 12, 15, 18, 21, 24]\n"
          ],
          "name": "stdout"
        }
      ]
    },
    {
      "cell_type": "markdown",
      "metadata": {
        "id": "MUlq94tBBdnW",
        "colab_type": "text"
      },
      "source": [
        "##Brincando com as impressões\n",
        "\n",
        "Existem funções no python que facilitam a tranformar as strings de maneira mais simples. Alguns exemplos abaixo:"
      ]
    },
    {
      "cell_type": "code",
      "metadata": {
        "id": "ALQroTgNBuhR",
        "colab_type": "code",
        "colab": {
          "base_uri": "https://localhost:8080/",
          "height": 34
        },
        "outputId": "8f9c2b0d-4083-437b-9fa5-c2284c7c5d6f"
      },
      "source": [
        "\"Oi Python!\".upper()"
      ],
      "execution_count": 48,
      "outputs": [
        {
          "output_type": "execute_result",
          "data": {
            "text/plain": [
              "'OI PYTHON!'"
            ]
          },
          "metadata": {
            "tags": []
          },
          "execution_count": 48
        }
      ]
    },
    {
      "cell_type": "code",
      "metadata": {
        "id": "60u532jWBz2n",
        "colab_type": "code",
        "colab": {
          "base_uri": "https://localhost:8080/",
          "height": 34
        },
        "outputId": "a5783bcd-7d3d-42ab-9a2c-96ee85c2e712"
      },
      "source": [
        "\"Oi Python!\".lower()"
      ],
      "execution_count": 49,
      "outputs": [
        {
          "output_type": "execute_result",
          "data": {
            "text/plain": [
              "'oi python!'"
            ]
          },
          "metadata": {
            "tags": []
          },
          "execution_count": 49
        }
      ]
    },
    {
      "cell_type": "code",
      "metadata": {
        "id": "KpsiWlimBz_Q",
        "colab_type": "code",
        "colab": {
          "base_uri": "https://localhost:8080/",
          "height": 34
        },
        "outputId": "9ef3d27a-0ad1-4844-ed8f-37d4f74cddbe"
      },
      "source": [
        "\"Oi Python!\" + \" Tudo bom?\""
      ],
      "execution_count": 51,
      "outputs": [
        {
          "output_type": "execute_result",
          "data": {
            "text/plain": [
              "'Oi Python! Tudo bom?'"
            ]
          },
          "metadata": {
            "tags": []
          },
          "execution_count": 51
        }
      ]
    },
    {
      "cell_type": "code",
      "metadata": {
        "id": "zBkCftGQB0MS",
        "colab_type": "code",
        "colab": {
          "base_uri": "https://localhost:8080/",
          "height": 34
        },
        "outputId": "5f73c144-e0d0-485a-99e7-f3a163725184"
      },
      "source": [
        "\"Oi Python!\".split()"
      ],
      "execution_count": 52,
      "outputs": [
        {
          "output_type": "execute_result",
          "data": {
            "text/plain": [
              "['Oi', 'Python!']"
            ]
          },
          "metadata": {
            "tags": []
          },
          "execution_count": 52
        }
      ]
    },
    {
      "cell_type": "markdown",
      "metadata": {
        "id": "pF2cjIyN-kKE",
        "colab_type": "text"
      },
      "source": [
        "##Exercícios"
      ]
    },
    {
      "cell_type": "markdown",
      "metadata": {
        "id": "tw3Purx7-qiJ",
        "colab_type": "text"
      },
      "source": [
        "1. Receba do usuário o nome e idade em varíaveis diferentes e imprima o nome , a idade e dizendo se é maior de idade ou menor de idade (idade=> 18, maior de idade)"
      ]
    },
    {
      "cell_type": "code",
      "metadata": {
        "id": "Hm9-22GE-_HH",
        "colab_type": "code",
        "colab": {}
      },
      "source": [
        ""
      ],
      "execution_count": 0,
      "outputs": []
    },
    {
      "cell_type": "markdown",
      "metadata": {
        "id": "8LicrPPt-_07",
        "colab_type": "text"
      },
      "source": [
        "2.  Receba do usuário seu peso e sua altura e imprima seu IMC. (O cálculo do IMC é feito dividindo o peso (em quilogramas) pela altura (em metros) ao quadrado. )"
      ]
    },
    {
      "cell_type": "code",
      "metadata": {
        "id": "G41idvYo_XJZ",
        "colab_type": "code",
        "colab": {}
      },
      "source": [
        ""
      ],
      "execution_count": 0,
      "outputs": []
    },
    {
      "cell_type": "markdown",
      "metadata": {
        "id": "lhcn6EYhA0x_",
        "colab_type": "text"
      },
      "source": [
        "3. Faça um programa que leia um valor inteiro e mostre na tela uma sequencia incluindo os dois\n",
        "números que vem antes, o número digitado, e os dois números que vem depois dele. Ex.: digitou 5;\n",
        "o programa mostra 3 4 5 6 7."
      ]
    },
    {
      "cell_type": "code",
      "metadata": {
        "id": "xKXUpdxrA26o",
        "colab_type": "code",
        "colab": {}
      },
      "source": [
        ""
      ],
      "execution_count": 0,
      "outputs": []
    },
    {
      "cell_type": "markdown",
      "metadata": {
        "id": "L8IaNs81AL43",
        "colab_type": "text"
      },
      "source": [
        "**Retirado do URI**\n",
        "  [1008](https://www.urionlinejudge.com.br/judge/pt/problems/view/1008) - Um sistema do setor de recursos humanos de uma empresa deve calcular o salário a ser pago para cada funcionário da empresa em função de quantas horas o funcionário trabalhou no mês e de quanto ele recebe por hora trabalhada.\n",
        "\n",
        "Escreva um código Python que leia o nome de um funcionário, seu número de horas trabalhadas, o valor que recebe por hora e calcula seu salário. Em seguida, mostre o nome e o salário do funcionário.\n",
        "\n",
        "|.| Entrada | Saída |\n",
        "|-|----|---|\n",
        "| *Exemplo 1* | João 100 5.50  | João 550.00 | \n",
        "| *Exemplo 2* | Maria 200 20.50 | Maria 4100.00 |\n",
        "| *Exemplo 3* | Facebookson 145 15.55 | Facebookson 2254.75 |"
      ]
    },
    {
      "cell_type": "code",
      "metadata": {
        "id": "T5_sgzJ8Ab7c",
        "colab_type": "code",
        "colab": {}
      },
      "source": [
        ""
      ],
      "execution_count": 0,
      "outputs": []
    },
    {
      "cell_type": "markdown",
      "metadata": {
        "id": "Z1sSZw_bBDS2",
        "colab_type": "text"
      },
      "source": [
        "**Faça os exercícios da LISTA01.pdf**"
      ]
    }
  ]
}