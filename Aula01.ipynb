{
  "nbformat": 4,
  "nbformat_minor": 0,
  "metadata": {
    "colab": {
      "name": "Untitled0.ipynb",
      "version": "0.3.2",
      "provenance": [],
      "include_colab_link": true
    },
    "kernelspec": {
      "name": "python3",
      "display_name": "Python 3"
    }
  },
  "cells": [
    {
      "cell_type": "markdown",
      "metadata": {
        "id": "view-in-github",
        "colab_type": "text"
      },
      "source": [
        "<a href=\"https://colab.research.google.com/github/agiribeiro/Python_beginner/blob/master/Aula01.ipynb\" target=\"_parent\"><img src=\"https://colab.research.google.com/assets/colab-badge.svg\" alt=\"Open In Colab\"/></a>"
      ]
    },
    {
      "cell_type": "markdown",
      "metadata": {
        "id": "uxZlkypdU0jM",
        "colab_type": "text"
      },
      "source": [
        "# Primeiros passos com Python"
      ]
    },
    {
      "cell_type": "markdown",
      "metadata": {
        "id": "uT-pVdP3U6Fz",
        "colab_type": "text"
      },
      "source": [
        "Este tutorial é para quem quer começar a aprender python. "
      ]
    },
    {
      "cell_type": "markdown",
      "metadata": {
        "id": "xmE3mK7hgAVJ",
        "colab_type": "text"
      },
      "source": [
        "##Variáveis\n",
        "\n",
        "Um nome que é usado para nomear um valor é chamado de variável. Variáveis podem ser declaradas e receber valores como nos exemplos abaixo:\n"
      ]
    },
    {
      "cell_type": "code",
      "metadata": {
        "id": "7-KEne7JgzkD",
        "colab_type": "code",
        "colab": {}
      },
      "source": [
        "x = 2\n",
        "y = 5\n",
        "xy = 'Hello'"
      ],
      "execution_count": 0,
      "outputs": []
    },
    {
      "cell_type": "markdown",
      "metadata": {
        "id": "uIxEiJTphFvh",
        "colab_type": "text"
      },
      "source": [
        "Para imprimir use *print*"
      ]
    },
    {
      "cell_type": "code",
      "metadata": {
        "id": "3WfwgzIIhK76",
        "colab_type": "code",
        "colab": {
          "base_uri": "https://localhost:8080/",
          "height": 51
        },
        "outputId": "afd65228-dae5-4d54-9c18-b1b7891df9cb"
      },
      "source": [
        "print (x+y)\n",
        "print (xy)\n"
      ],
      "execution_count": 9,
      "outputs": [
        {
          "output_type": "stream",
          "text": [
            "7\n",
            "Hello\n"
          ],
          "name": "stdout"
        }
      ]
    },
    {
      "cell_type": "markdown",
      "metadata": {
        "id": "YsLDoHGgh-cE",
        "colab_type": "text"
      },
      "source": [
        "Múltiplas variáveis podem estar associadas ao mesmo valor.\n",
        "\n"
      ]
    },
    {
      "cell_type": "code",
      "metadata": {
        "id": "QSeNuaFBh_cX",
        "colab_type": "code",
        "colab": {
          "base_uri": "https://localhost:8080/",
          "height": 34
        },
        "outputId": "2382494e-354c-4fb8-ed9e-fb734722e0d2"
      },
      "source": [
        "x=y=1\n",
        "print (x,y)"
      ],
      "execution_count": 12,
      "outputs": [
        {
          "output_type": "stream",
          "text": [
            "1 1\n"
          ],
          "name": "stdout"
        }
      ]
    },
    {
      "cell_type": "markdown",
      "metadata": {
        "id": "tZRUn9DSi57C",
        "colab_type": "text"
      },
      "source": [
        "Uma variável pode receber um texto também"
      ]
    },
    {
      "cell_type": "code",
      "metadata": {
        "id": "KspRlSj-i9eq",
        "colab_type": "code",
        "colab": {
          "base_uri": "https://localhost:8080/",
          "height": 34
        },
        "outputId": "e95a68a2-a9c7-4669-96d6-55aad68a3f51"
      },
      "source": [
        "texto = 'Olá todo mundo'\n",
        "print (texto)"
      ],
      "execution_count": 13,
      "outputs": [
        {
          "output_type": "stream",
          "text": [
            "Olá todo mundo\n"
          ],
          "name": "stdout"
        }
      ]
    }
  ]
}